{
 "cells": [
  {
   "cell_type": "code",
   "execution_count": null,
   "metadata": {},
   "outputs": [],
   "source": [
    "import pandas as pd\n",
    "import glob\n",
    "import subprocess as sp\n",
    "import datetime as dt\n",
    "import numpy as np\n",
    "import matplotlib.pylab as plt\n",
    "import matplotlib.dates as mdates\n",
    "\n",
    "%matplotlib inline"
   ]
  },
  {
   "cell_type": "code",
   "execution_count": null,
   "metadata": {},
   "outputs": [],
   "source": [
    "dirlogs='./'"
   ]
  },
  {
   "cell_type": "code",
   "execution_count": null,
   "metadata": {},
   "outputs": [],
   "source": [
    "# make monitoring file\n",
    "def make_monitor_file():\n",
    "    ''' create a csv file with content from monitor package that\n",
    "    pandas can read '''\n",
    "    filenames = glob.glob(dirlogs + 'STDOUT.0000.*')\n",
    "    sp.call('rm monitor.log',shell=True)\n",
    "    for filename in filenames:\n",
    "        sp.call(\"cat \" + filename + \" | grep %MON | awk '{print $4,$6}' >> monitor.log\",shell=True)\n",
    "\n",
    "make_monitor_file()"
   ]
  },
  {
   "cell_type": "code",
   "execution_count": null,
   "metadata": {},
   "outputs": [],
   "source": [
    "# read monitor.log file into pandas\n",
    "monitoring = pd.read_csv('monitor.log',sep=' ',names=['gcmvariable','gcmvalue'])"
   ]
  },
  {
   "cell_type": "code",
   "execution_count": null,
   "metadata": {},
   "outputs": [],
   "source": [
    "# create the time axis\n",
    "# start date can be found in STDOUT looking for startdate\n",
    "timesteps = monitoring[monitoring.gcmvariable=='time_tsnumber'].gcmvalue.values\n",
    "seconds_from = monitoring[monitoring.gcmvariable=='time_secondsf'].gcmvalue.values\n",
    "\n",
    "dates= []\n",
    "for kt in np.arange(len(seconds_from)):\n",
    "    dates.append(dt.datetime(2010,1,1,0,0) + dt.timedelta(seconds=seconds_from[kt]))"
   ]
  },
  {
   "cell_type": "code",
   "execution_count": null,
   "metadata": {},
   "outputs": [],
   "source": [
    "# print list of available diagnostics\n",
    "list_available_diags = set(monitoring.gcmvariable.values)\n",
    "print list_available_diags"
   ]
  },
  {
   "cell_type": "code",
   "execution_count": null,
   "metadata": {},
   "outputs": [],
   "source": [
    "# monitoring plot\n",
    "def plot_statistics_of(cvar):\n",
    "    ''' plots min/max/mean timeseries,\n",
    "    takes variable without suffix as string (e.g. dynstat_sst)'''\n",
    "    meanvar = monitoring[monitoring.gcmvariable==cvar+'_mean'].gcmvalue.values\n",
    "    minvar  = monitoring[monitoring.gcmvariable==cvar+'_min' ].gcmvalue.values\n",
    "    maxvar  = monitoring[monitoring.gcmvariable==cvar+'_max' ].gcmvalue.values\n",
    "    \n",
    "    fig = plt.figure(figsize=[12,8])\n",
    "\n",
    "    plt.subplot(121)\n",
    "    plt.gca().xaxis.set_major_formatter(mdates.DateFormatter('%m/%Y'))\n",
    "    plt.gca().xaxis.set_major_locator(mdates.MonthLocator())\n",
    "    plt.gca().xaxis.set_minor_formatter(mdates.DateFormatter('%d'))\n",
    "    plt.gca().xaxis.set_minor_locator(mdates.DayLocator())\n",
    "    plt.fill_between(dates,minvar,maxvar,color='grey')\n",
    "    plt.plot(dates,meanvar,'r.')\n",
    "    plt.title('range and mean '+cvar)\n",
    "    plt.gcf().autofmt_xdate()\n",
    "\n",
    "    plt.subplot(122)\n",
    "    plt.gca().xaxis.set_major_formatter(mdates.DateFormatter('%m/%Y'))\n",
    "    plt.gca().xaxis.set_major_locator(mdates.MonthLocator())\n",
    "    plt.gca().xaxis.set_minor_formatter(mdates.DateFormatter('%d'))\n",
    "    plt.gca().xaxis.set_minor_locator(mdates.DayLocator())\n",
    "    plt.plot(dates,meanvar,'r.')\n",
    "    plt.title('zoom on mean '+cvar)\n",
    "    plt.gcf().autofmt_xdate()\n",
    "    plt.show()\n",
    "    \n",
    "    "
   ]
  },
  {
   "cell_type": "code",
   "execution_count": null,
   "metadata": {},
   "outputs": [],
   "source": [
    "# surface T/S statistics\n",
    "plot_statistics_of('dynstat_sst')\n",
    "plot_statistics_of('dynstat_sss')"
   ]
  },
  {
   "cell_type": "code",
   "execution_count": null,
   "metadata": {},
   "outputs": [],
   "source": [
    "# Volume T/S\n",
    "plot_statistics_of('dynstat_theta')\n",
    "plot_statistics_of('dynstat_salt')"
   ]
  },
  {
   "cell_type": "code",
   "execution_count": null,
   "metadata": {},
   "outputs": [],
   "source": [
    "# Atmospheric forcing statistics\n",
    "plot_statistics_of('forcing_qnet')\n",
    "plot_statistics_of('forcing_empmr')"
   ]
  },
  {
   "cell_type": "code",
   "execution_count": null,
   "metadata": {},
   "outputs": [],
   "source": []
  }
 ],
 "metadata": {
  "kernelspec": {
   "display_name": "Python 2",
   "language": "python",
   "name": "python2"
  },
  "language_info": {
   "codemirror_mode": {
    "name": "ipython",
    "version": 2
   },
   "file_extension": ".py",
   "mimetype": "text/x-python",
   "name": "python",
   "nbconvert_exporter": "python",
   "pygments_lexer": "ipython2",
   "version": "2.7.14"
  }
 },
 "nbformat": 4,
 "nbformat_minor": 2
}
