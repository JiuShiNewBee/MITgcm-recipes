{
 "cells": [
  {
   "cell_type": "markdown",
   "metadata": {},
   "source": [
    "# How to create an boundary condition file from a global dataset (here GECCO)"
   ]
  },
  {
   "cell_type": "markdown",
   "metadata": {},
   "source": [
    "This example shows how to create an Boundary condition file for MITgcm from a global model (here GECCO). The method is similar than creating the initial condition but has to be made for all steps. In order to save memory, we extract the data for the OBC for every step."
   ]
  },
  {
   "cell_type": "markdown",
   "metadata": {},
   "source": [
    "We are gonna use essentially xarray and packages developed in-house: xmitgcm and MITgcm_recipes\n",
    "\n",
    "https://github.com/xgcm/xmitgcm\n",
    "\n",
    "https://github.com/raphaeldussin/MITgcm-recipes"
   ]
  },
  {
   "cell_type": "code",
   "execution_count": 1,
   "metadata": {},
   "outputs": [],
   "source": [
    "import xarray as xr\n",
    "import xmitgcm\n",
    "import MITgcm_recipes"
   ]
  },
  {
   "cell_type": "code",
   "execution_count": 2,
   "metadata": {},
   "outputs": [],
   "source": [
    "import tqdm\n",
    "import numpy as np"
   ]
  },
  {
   "cell_type": "code",
   "execution_count": 3,
   "metadata": {},
   "outputs": [],
   "source": [
    "%matplotlib inline\n",
    "import warnings\n",
    "warnings.filterwarnings(\"ignore\")"
   ]
  },
  {
   "cell_type": "markdown",
   "metadata": {},
   "source": [
    "## 0. Datasets"
   ]
  },
  {
   "cell_type": "markdown",
   "metadata": {},
   "source": [
    "We need the input dataset (here GECCO), the raw grid from MITgcm (as given by tile00?.mitgrid) that doesn't have holes where land processors are eliminated and one realization of the model for depth vector and grid angles."
   ]
  },
  {
   "cell_type": "markdown",
   "metadata": {},
   "source": [
    "#### GECCO is stored locally on our server in netcdf format and loaded with xarray:"
   ]
  },
  {
   "cell_type": "code",
   "execution_count": 4,
   "metadata": {},
   "outputs": [],
   "source": [
    "geccodir='/local/data/artemis/workspace/rdussin/Simulations/GECCO2/rechunked/'\n",
    "\n",
    "tempfile = geccodir + 'temp29_34_70.nc'\n",
    "saltfile = geccodir + 'salt29_34_70.nc'\n",
    "sshfile = geccodir + 'zeta29_34_70.nc'\n",
    "uzofile = geccodir + 'u29_34_70.nc'\n",
    "vmefile = geccodir + 'v29_34_70.nc'\n",
    "\n",
    "# we need to split by point-type to avoid xarray broadcast (makes larger arrays)\n",
    "gecco_T = xr.open_mfdataset([tempfile, saltfile, sshfile], decode_times=False, chunks={'time':1})\n",
    "gecco_U = xr.open_dataset(uzofile, decode_times=False, chunks={'time':1})\n",
    "gecco_V = xr.open_dataset(vmefile, decode_times=False, chunks={'time':1})"
   ]
  },
  {
   "cell_type": "markdown",
   "metadata": {},
   "source": [
    "#### ASTE raw grid can be read from a netcdf produced with xmitgcm reading tile00?.mitgrid"
   ]
  },
  {
   "cell_type": "code",
   "execution_count": 5,
   "metadata": {},
   "outputs": [],
   "source": [
    "file_aste_raw = '/local/data/artemis/workspace/rdussin/ASTE/GRID/nc/aste_grid.nc'\n",
    "aste_raw = xr.open_dataset(file_aste_raw)"
   ]
  },
  {
   "cell_type": "code",
   "execution_count": 6,
   "metadata": {},
   "outputs": [
    {
     "data": {
      "text/plain": [
       "<xarray.Dataset>\n",
       "Dimensions:  (face: 6, i: 270, i_g: 270, j: 270, j_g: 270)\n",
       "Coordinates:\n",
       "  * i        (i) int64 0 1 2 3 4 5 6 7 8 9 10 11 12 13 14 15 16 17 18 19 20 ...\n",
       "  * j        (j) int64 0 1 2 3 4 5 6 7 8 9 10 11 12 13 14 15 16 17 18 19 20 ...\n",
       "  * i_g      (i_g) int64 0 1 2 3 4 5 6 7 8 9 10 11 12 13 14 15 16 17 18 19 ...\n",
       "  * j_g      (j_g) int64 0 1 2 3 4 5 6 7 8 9 10 11 12 13 14 15 16 17 18 19 ...\n",
       "  * face     (face) int64 0 1 2 3 4 5\n",
       "Data variables:\n",
       "    XC       (face, j, i) float64 ...\n",
       "    YC       (face, j, i) float64 ...\n",
       "    DXF      (face, j, i) float64 ...\n",
       "    DYF      (face, j, i) float64 ...\n",
       "    RAC      (face, j, i) float64 ...\n",
       "    XG       (face, j_g, i_g) float64 ...\n",
       "    YG       (face, j_g, i_g) float64 ...\n",
       "    DXV      (face, j, i) float64 ...\n",
       "    DYU      (face, j, i) float64 ...\n",
       "    RAZ      (face, j_g, i_g) float64 ...\n",
       "    DXC      (face, j, i_g) float64 ...\n",
       "    DYC      (face, j_g, i) float64 ...\n",
       "    RAW      (face, j, i_g) float64 ...\n",
       "    RAS      (face, j_g, i) float64 ...\n",
       "    DXG      (face, j_g, i) float64 ...\n",
       "    DYG      (face, j, i_g) float64 ..."
      ]
     },
     "execution_count": 6,
     "metadata": {},
     "output_type": "execute_result"
    }
   ],
   "source": [
    "aste_raw"
   ]
  },
  {
   "cell_type": "markdown",
   "metadata": {},
   "source": [
    "**Here the variables of interest are gonna be XC, YC and XG, YG which are longitude/latitudes for cell centers and edges**"
   ]
  },
  {
   "cell_type": "markdown",
   "metadata": {},
   "source": [
    "#### Sample ASTE run needed for angles/depth available at:"
   ]
  },
  {
   "cell_type": "code",
   "execution_count": 7,
   "metadata": {},
   "outputs": [],
   "source": [
    "datadir_aste = '/local/data/artemis/workspace/rdussin/ASTE/RUNS/ASTE-Phy-Release1/outputs/'\n",
    "md = xmitgcm.utils.get_extra_metadata(domain='aste', nx=270)\n",
    "aste_out = xmitgcm.open_mdsdataset(datadir_aste, iters=[], prefix=['T','S','Eta','U','V'],\n",
    "                                   geometry='llc', nx=270, extra_metadata=md)"
   ]
  },
  {
   "cell_type": "code",
   "execution_count": 8,
   "metadata": {},
   "outputs": [
    {
     "data": {
      "text/plain": [
       "<xarray.Dataset>\n",
       "Dimensions:  (face: 6, i: 270, i_g: 270, j: 270, j_g: 270, k: 50, k_l: 50, k_p1: 51, k_u: 50)\n",
       "Coordinates:\n",
       "  * i        (i) int64 0 1 2 3 4 5 6 7 8 9 10 11 12 13 14 15 16 17 18 19 20 ...\n",
       "  * i_g      (i_g) int64 0 1 2 3 4 5 6 7 8 9 10 11 12 13 14 15 16 17 18 19 ...\n",
       "  * j        (j) int64 0 1 2 3 4 5 6 7 8 9 10 11 12 13 14 15 16 17 18 19 20 ...\n",
       "  * j_g      (j_g) int64 0 1 2 3 4 5 6 7 8 9 10 11 12 13 14 15 16 17 18 19 ...\n",
       "  * k        (k) int64 0 1 2 3 4 5 6 7 8 9 10 11 12 13 14 15 16 17 18 19 20 ...\n",
       "  * k_u      (k_u) int64 0 1 2 3 4 5 6 7 8 9 10 11 12 13 14 15 16 17 18 19 ...\n",
       "  * k_l      (k_l) int64 0 1 2 3 4 5 6 7 8 9 10 11 12 13 14 15 16 17 18 19 ...\n",
       "  * k_p1     (k_p1) int64 0 1 2 3 4 5 6 7 8 9 10 11 12 13 14 15 16 17 18 19 ...\n",
       "  * face     (face) int64 0 1 2 3 4 5\n",
       "    XC       (face, j, i) >f4 dask.array<shape=(6, 270, 270), chunksize=(1, 270, 270)>\n",
       "    YC       (face, j, i) >f4 dask.array<shape=(6, 270, 270), chunksize=(1, 270, 270)>\n",
       "    XG       (face, j_g, i_g) >f4 dask.array<shape=(6, 270, 270), chunksize=(1, 270, 270)>\n",
       "    YG       (face, j_g, i_g) >f4 dask.array<shape=(6, 270, 270), chunksize=(1, 270, 270)>\n",
       "    CS       (face, j, i) >f4 dask.array<shape=(6, 270, 270), chunksize=(1, 270, 270)>\n",
       "    SN       (face, j, i) >f4 dask.array<shape=(6, 270, 270), chunksize=(1, 270, 270)>\n",
       "    Z        (k) >f4 dask.array<shape=(50,), chunksize=(50,)>\n",
       "    Zp1      (k_p1) >f4 dask.array<shape=(51,), chunksize=(51,)>\n",
       "    Zu       (k_u) >f4 dask.array<shape=(50,), chunksize=(50,)>\n",
       "    Zl       (k_l) >f4 dask.array<shape=(50,), chunksize=(50,)>\n",
       "    rA       (face, j, i) >f4 dask.array<shape=(6, 270, 270), chunksize=(1, 270, 270)>\n",
       "    dxG      (face, j_g, i) >f4 dask.array<shape=(6, 270, 270), chunksize=(1, 270, 270)>\n",
       "    dyG      (face, j, i_g) >f4 dask.array<shape=(6, 270, 270), chunksize=(1, 270, 270)>\n",
       "    Depth    (face, j, i) >f4 dask.array<shape=(6, 270, 270), chunksize=(1, 270, 270)>\n",
       "    rAz      (face, j_g, i_g) >f4 dask.array<shape=(6, 270, 270), chunksize=(1, 270, 270)>\n",
       "    dxC      (face, j, i_g) >f4 dask.array<shape=(6, 270, 270), chunksize=(1, 270, 270)>\n",
       "    dyC      (face, j_g, i) >f4 dask.array<shape=(6, 270, 270), chunksize=(1, 270, 270)>\n",
       "    rAw      (face, j, i_g) >f4 dask.array<shape=(6, 270, 270), chunksize=(1, 270, 270)>\n",
       "    rAs      (face, j_g, i) >f4 dask.array<shape=(6, 270, 270), chunksize=(1, 270, 270)>\n",
       "    drC      (k_p1) >f4 dask.array<shape=(51,), chunksize=(51,)>\n",
       "    drF      (k) >f4 dask.array<shape=(50,), chunksize=(50,)>\n",
       "    PHrefC   (k) >f4 dask.array<shape=(50,), chunksize=(50,)>\n",
       "    PHrefF   (k_p1) >f4 dask.array<shape=(51,), chunksize=(51,)>\n",
       "    hFacC    (k, face, j, i) >f4 dask.array<shape=(50, 6, 270, 270), chunksize=(1, 1, 270, 270)>\n",
       "    hFacW    (k, face, j, i_g) >f4 dask.array<shape=(50, 6, 270, 270), chunksize=(1, 1, 270, 270)>\n",
       "    hFacS    (k, face, j_g, i) >f4 dask.array<shape=(50, 6, 270, 270), chunksize=(1, 1, 270, 270)>\n",
       "    maskInC  (face, j, i) >f4 dask.array<shape=(6, 270, 270), chunksize=(1, 270, 270)>\n",
       "    maskInS  (face, j_g, i) >f4 dask.array<shape=(6, 270, 270), chunksize=(1, 270, 270)>\n",
       "    maskInW  (face, j, i_g) >f4 dask.array<shape=(6, 270, 270), chunksize=(1, 270, 270)>\n",
       "Data variables:\n",
       "    *empty*"
      ]
     },
     "execution_count": 8,
     "metadata": {},
     "output_type": "execute_result"
    }
   ],
   "source": [
    "aste_out"
   ]
  },
  {
   "cell_type": "markdown",
   "metadata": {},
   "source": [
    "**Here the variables of interest are CS ( = cos(angle)), SN ( = sin(angle)) and Z (depth vector) **"
   ]
  },
  {
   "cell_type": "markdown",
   "metadata": {},
   "source": [
    "## 1. Tracers and SSH"
   ]
  },
  {
   "cell_type": "code",
   "execution_count": 9,
   "metadata": {},
   "outputs": [
    {
     "name": "stderr",
     "output_type": "stream",
     "text": [
      "  0%|          | 0/3 [00:00<?, ?it/s]"
     ]
    },
    {
     "name": "stdout",
     "output_type": "stream",
     "text": [
      "Reuse existing file: regrid_T2T_0.nc\n",
      "Reuse existing file: regrid_T2T_1.nc\n",
      "Reuse existing file: regrid_T2T_2.nc\n",
      "Reuse existing file: backup_regrid_T2T_2.nc\n",
      "Reuse existing file: regrid_T2T_3.nc\n",
      "Reuse existing file: regrid_T2T_4.nc\n",
      "Reuse existing file: regrid_T2T_5.nc\n"
     ]
    },
    {
     "name": "stderr",
     "output_type": "stream",
     "text": [
      " 33%|███▎      | 1/3 [00:05<00:10,  5.03s/it]"
     ]
    },
    {
     "name": "stdout",
     "output_type": "stream",
     "text": [
      "Reuse existing file: regrid_T2T_0.nc\n",
      "Reuse existing file: regrid_T2T_1.nc\n",
      "Reuse existing file: regrid_T2T_2.nc\n",
      "Reuse existing file: backup_regrid_T2T_2.nc\n",
      "Reuse existing file: regrid_T2T_3.nc\n",
      "Reuse existing file: regrid_T2T_4.nc\n",
      "Reuse existing file: regrid_T2T_5.nc\n"
     ]
    },
    {
     "name": "stderr",
     "output_type": "stream",
     "text": [
      " 67%|██████▋   | 2/3 [00:15<00:07,  7.99s/it]"
     ]
    },
    {
     "name": "stdout",
     "output_type": "stream",
     "text": [
      "Reuse existing file: regrid_T2T_0.nc\n",
      "Reuse existing file: regrid_T2T_1.nc\n",
      "Reuse existing file: regrid_T2T_2.nc\n",
      "Reuse existing file: backup_regrid_T2T_2.nc\n",
      "Reuse existing file: regrid_T2T_3.nc\n",
      "Reuse existing file: regrid_T2T_4.nc\n",
      "Reuse existing file: regrid_T2T_5.nc\n"
     ]
    },
    {
     "name": "stderr",
     "output_type": "stream",
     "text": [
      "100%|██████████| 3/3 [00:26<00:00,  8.86s/it]\n"
     ]
    }
   ],
   "source": [
    "#ntimes=len(gecco_T.time)\n",
    "ntimes=3\n",
    "obcs, obce = MITgcm_recipes.open_boundary.define_obc_aste()\n",
    "nobcs=1170\n",
    "nobce=1260\n",
    "nlevs=50\n",
    "\n",
    "temp_obcs = np.empty((ntimes, nlevs, nobcs))\n",
    "temp_obce = np.empty((ntimes, nlevs, nobce))\n",
    "\n",
    "salt_obcs = np.empty((ntimes, nlevs, nobcs))\n",
    "salt_obce = np.empty((ntimes, nlevs, nobce))\n",
    "\n",
    "zeta_obcs = np.empty((ntimes, 1, nobcs))\n",
    "zeta_obce = np.empty((ntimes, 1, nobce))\n",
    "\n",
    "# LOOP ON TIME FRAMES:\n",
    "for kt in tqdm.tqdm(range(ntimes)):\n",
    "    gecco_T_ic = gecco_T.isel(time=kt)\n",
    "    # 1. Extrapolation onto land\n",
    "    gecco_drowned_T = xr.Dataset()\n",
    "    drowned_temp = MITgcm_recipes.regridding.drown_field(gecco_T_ic, 'temp', \n",
    "                                                         dims_drown=['lat', 'lon'], \n",
    "                                                         mask=None, periodicity=0)\n",
    "    gecco_drowned_T.update({'temp': drowned_temp['temp']})\n",
    "    drowned_salt = MITgcm_recipes.regridding.drown_field(gecco_T_ic, 'salt', \n",
    "                                                         dims_drown=['lat', 'lon'], \n",
    "                                                         mask=None, periodicity=0)\n",
    "    gecco_drowned_T.update({'salt': drowned_salt['salt']})\n",
    "\n",
    "    drowned_zeta = MITgcm_recipes.regridding.drown_field(gecco_T_ic, 'zeta', \n",
    "                                                         dims_drown=['lat', 'lon'], \n",
    "                                                         mask=None, periodicity=0)\n",
    "    gecco_drowned_T.update({'zeta': drowned_zeta['zeta']})\n",
    "    \n",
    "    # 2. Vertical interpolation\n",
    "    # Tpoint\n",
    "    gecco_drowned_Tz = MITgcm_recipes.vertical_interpolation(gecco_drowned_T, aste_out['Z'], \n",
    "                                                             ['temp', 'salt'],\n",
    "                                                             lonvar='lon', latvar='lat',\n",
    "                                                             depth_varin='Depth',\n",
    "                                                             timevar=None)\n",
    "\n",
    "    # add ssh (2d) to resulting dataset\n",
    "    gecco_drowned_Tz.update({'zeta':gecco_drowned_T['zeta']})\n",
    "    \n",
    "    # 3. Regridding\n",
    "    regrid_T = MITgcm_recipes.regridding.regrid_2_mitgcm_llc(gecco_drowned_Tz, aste_raw, \n",
    "                                                             ['temp', 'salt', 'zeta'], \n",
    "                                                             method='bilinear',\n",
    "                                                             lonname='lon', latname='lat', \n",
    "                                                             point='T', faces2blend=[2], \n",
    "                                                             periodic=True, reuse_weights=True,\n",
    "                                                             regridname='regrid_T2T_face')\n",
    "    \n",
    "    # 4. Mask the end result\n",
    "    masked_temp = MITgcm_recipes.regridding.mask_output_zeros(regrid_T.temp, aste_out, point='T')\n",
    "    masked_salt = MITgcm_recipes.regridding.mask_output_zeros(regrid_T.salt, aste_out, point='T')\n",
    "    masked_zeta = MITgcm_recipes.regridding.mask_output_zeros(regrid_T.zeta, aste_out, point='T')\n",
    "    \n",
    "    # 5. Extract the OBC\n",
    "    temp_obcs[kt,:,:] = MITgcm_recipes.open_boundary.extract_obc_raw(masked_temp.expand_dims('time'), \n",
    "                                                                     obcs, 1170, 50, 1)\n",
    "    temp_obce[kt,:,:] = MITgcm_recipes.open_boundary.extract_obc_raw(masked_temp.expand_dims('time'), \n",
    "                                                                     obce, 1260, 50, 1)\n",
    "    \n",
    "    salt_obcs[kt,:,:] = MITgcm_recipes.open_boundary.extract_obc_raw(masked_salt.expand_dims('time'), \n",
    "                                                                     obcs, 1170, 50, 1)\n",
    "    salt_obce[kt,:,:] = MITgcm_recipes.open_boundary.extract_obc_raw(masked_salt.expand_dims('time'), \n",
    "                                                                     obce, 1260, 50, 1)\n",
    "    \n",
    "    zeta_obcs[kt,:,:] = MITgcm_recipes.open_boundary.extract_obc_raw(masked_zeta.expand_dims('time'), \n",
    "                                                                     obcs, 1170, 1, 1)\n",
    "    zeta_obce[kt,:,:] = MITgcm_recipes.open_boundary.extract_obc_raw(masked_zeta.expand_dims('time'), \n",
    "                                                                     obce, 1260, 1, 1)\n",
    "\n",
    "# Write to file\n",
    "xmitgcm.utils.write_to_binary(temp_obcs.flatten(), 'temp_GECCO_obc_south.bin', precision='single')\n",
    "xmitgcm.utils.write_to_binary(temp_obce.flatten(), 'temp_GECCO_obc_east.bin', precision='single')\n",
    "\n",
    "xmitgcm.utils.write_to_binary(salt_obcs.flatten(), 'salt_GECCO_obc_south.bin', precision='single')\n",
    "xmitgcm.utils.write_to_binary(salt_obce.flatten(), 'salt_GECCO_obc_east.bin', precision='single')\n",
    "\n",
    "xmitgcm.utils.write_to_binary(zeta_obcs.flatten(), 'zeta_GECCO_obc_south.bin', precision='single')\n",
    "xmitgcm.utils.write_to_binary(zeta_obce.flatten(), 'zeta_GECCO_obc_east.bin', precision='single')"
   ]
  },
  {
   "cell_type": "markdown",
   "metadata": {},
   "source": [
    "## 2. Velocities"
   ]
  },
  {
   "cell_type": "code",
   "execution_count": 12,
   "metadata": {},
   "outputs": [
    {
     "name": "stderr",
     "output_type": "stream",
     "text": [
      "  0%|          | 0/3 [00:00<?, ?it/s]"
     ]
    },
    {
     "name": "stdout",
     "output_type": "stream",
     "text": [
      "Reuse existing file: regrid_U2U_face0.nc\n",
      "Reuse existing file: regrid_U2U_face1.nc\n",
      "Reuse existing file: regrid_U2U_face2.nc\n",
      "Reuse existing file: regrid_U2U_face3.nc\n",
      "Reuse existing file: regrid_U2U_face4.nc\n",
      "Reuse existing file: regrid_U2U_face5.nc\n",
      "Reuse existing file: regrid_U2V_face0.nc\n",
      "Reuse existing file: regrid_U2V_face1.nc\n",
      "Reuse existing file: regrid_U2V_face2.nc\n",
      "Reuse existing file: regrid_U2V_face3.nc\n",
      "Reuse existing file: regrid_U2V_face4.nc\n",
      "Reuse existing file: regrid_U2V_face5.nc\n",
      "Reuse existing file: regrid_V2U_face0.nc\n",
      "Reuse existing file: regrid_V2U_face1.nc\n",
      "Reuse existing file: regrid_V2U_face2.nc\n",
      "Reuse existing file: regrid_V2U_face3.nc\n",
      "Reuse existing file: regrid_V2U_face4.nc\n",
      "Reuse existing file: regrid_V2U_face5.nc\n",
      "Reuse existing file: regrid_V2V_face0.nc\n",
      "Reuse existing file: regrid_V2V_face1.nc\n",
      "Reuse existing file: regrid_V2V_face2.nc\n",
      "Reuse existing file: regrid_V2V_face3.nc\n",
      "Reuse existing file: regrid_V2V_face4.nc\n",
      "Reuse existing file: regrid_V2V_face5.nc\n"
     ]
    },
    {
     "name": "stderr",
     "output_type": "stream",
     "text": [
      " 33%|███▎      | 1/3 [00:07<00:14,  7.31s/it]"
     ]
    },
    {
     "name": "stdout",
     "output_type": "stream",
     "text": [
      "Reuse existing file: regrid_U2U_face0.nc\n",
      "Reuse existing file: regrid_U2U_face1.nc\n",
      "Reuse existing file: regrid_U2U_face2.nc\n",
      "Reuse existing file: regrid_U2U_face3.nc\n",
      "Reuse existing file: regrid_U2U_face4.nc\n",
      "Reuse existing file: regrid_U2U_face5.nc\n",
      "Reuse existing file: regrid_U2V_face0.nc\n",
      "Reuse existing file: regrid_U2V_face1.nc\n",
      "Reuse existing file: regrid_U2V_face2.nc\n",
      "Reuse existing file: regrid_U2V_face3.nc\n",
      "Reuse existing file: regrid_U2V_face4.nc\n",
      "Reuse existing file: regrid_U2V_face5.nc\n",
      "Reuse existing file: regrid_V2U_face0.nc\n",
      "Reuse existing file: regrid_V2U_face1.nc\n",
      "Reuse existing file: regrid_V2U_face2.nc\n",
      "Reuse existing file: regrid_V2U_face3.nc\n",
      "Reuse existing file: regrid_V2U_face4.nc\n",
      "Reuse existing file: regrid_V2U_face5.nc\n",
      "Reuse existing file: regrid_V2V_face0.nc\n",
      "Reuse existing file: regrid_V2V_face1.nc\n",
      "Reuse existing file: regrid_V2V_face2.nc\n",
      "Reuse existing file: regrid_V2V_face3.nc\n",
      "Reuse existing file: regrid_V2V_face4.nc\n",
      "Reuse existing file: regrid_V2V_face5.nc\n"
     ]
    },
    {
     "name": "stderr",
     "output_type": "stream",
     "text": [
      " 67%|██████▋   | 2/3 [00:20<00:10, 10.13s/it]"
     ]
    },
    {
     "name": "stdout",
     "output_type": "stream",
     "text": [
      "Reuse existing file: regrid_U2U_face0.nc\n",
      "Reuse existing file: regrid_U2U_face1.nc\n",
      "Reuse existing file: regrid_U2U_face2.nc\n",
      "Reuse existing file: regrid_U2U_face3.nc\n",
      "Reuse existing file: regrid_U2U_face4.nc\n",
      "Reuse existing file: regrid_U2U_face5.nc\n",
      "Reuse existing file: regrid_U2V_face0.nc\n",
      "Reuse existing file: regrid_U2V_face1.nc\n",
      "Reuse existing file: regrid_U2V_face2.nc\n",
      "Reuse existing file: regrid_U2V_face3.nc\n",
      "Reuse existing file: regrid_U2V_face4.nc\n",
      "Reuse existing file: regrid_U2V_face5.nc\n",
      "Reuse existing file: regrid_V2U_face0.nc\n",
      "Reuse existing file: regrid_V2U_face1.nc\n",
      "Reuse existing file: regrid_V2U_face2.nc\n",
      "Reuse existing file: regrid_V2U_face3.nc\n",
      "Reuse existing file: regrid_V2U_face4.nc\n",
      "Reuse existing file: regrid_V2U_face5.nc\n",
      "Reuse existing file: regrid_V2V_face0.nc\n",
      "Reuse existing file: regrid_V2V_face1.nc\n",
      "Reuse existing file: regrid_V2V_face2.nc\n",
      "Reuse existing file: regrid_V2V_face3.nc\n",
      "Reuse existing file: regrid_V2V_face4.nc\n",
      "Reuse existing file: regrid_V2V_face5.nc\n"
     ]
    },
    {
     "name": "stderr",
     "output_type": "stream",
     "text": [
      "100%|██████████| 3/3 [00:32<00:00, 10.92s/it]\n"
     ]
    }
   ],
   "source": [
    "#ntimes=len(gecco_T.time)\n",
    "ntimes=3\n",
    "obcs_u, obce_u = MITgcm_recipes.open_boundary.define_obc_aste(point='U')\n",
    "obcs_v, obce_v = MITgcm_recipes.open_boundary.define_obc_aste(point='V')\n",
    "nobcs=1170\n",
    "nobce=1260\n",
    "nlevs=50\n",
    "\n",
    "u_obcs = np.empty((ntimes, nlevs, nobcs))\n",
    "u_obce = np.empty((ntimes, nlevs, nobce))\n",
    "\n",
    "v_obcs = np.empty((ntimes, nlevs, nobcs))\n",
    "v_obce = np.empty((ntimes, nlevs, nobce))\n",
    "\n",
    "# LOOP ON TIME FRAMES:\n",
    "for kt in tqdm.tqdm(range(ntimes)):\n",
    "    gecco_U_ic = gecco_U.isel(time=kt)\n",
    "    gecco_V_ic = gecco_V.isel(time=kt)\n",
    "    # 1. Extrapolation onto land\n",
    "    gecco_drowned_U = MITgcm_recipes.regridding.drown_field(gecco_U_ic, 'u', \n",
    "                                                            dims_drown=['lat', 'lon'], \n",
    "                                                            mask=None, periodicity=0)\n",
    "\n",
    "    gecco_drowned_V = MITgcm_recipes.regridding.drown_field(gecco_V_ic, 'v', \n",
    "                                                            dims_drown=['lat', 'lon'], \n",
    "                                                            mask=None, periodicity=0)\n",
    "    \n",
    "    # 2. Vertical interpolation\n",
    "    # U point\n",
    "    gecco_drowned_Uz = MITgcm_recipes.vertical_interpolation(gecco_drowned_U, \n",
    "                                                             aste_out['Z'], ['u'],\n",
    "                                                             lonvar='lon', latvar='lat',\n",
    "                                                             depth_varin='Depth',\n",
    "                                                             timevar=None)\n",
    "\n",
    "    # V point\n",
    "    gecco_drowned_Vz = MITgcm_recipes.vertical_interpolation(gecco_drowned_V, \n",
    "                                                             aste_out['Z'], ['v'],\n",
    "                                                             lonvar='lon', latvar='lat',\n",
    "                                                             depth_varin='Depth',\n",
    "                                                             timevar=None)\n",
    "\n",
    "    # 3. Regridding : perform 4 interpolations!\n",
    "\n",
    "    rawUvel_Upoint = MITgcm_recipes.regridding.regrid_2_mitgcm_llc(gecco_drowned_Uz, \n",
    "                                                                   aste_raw, ['u'], point='U',\n",
    "                                                                   method='bilinear',\n",
    "                                                                   periodic=True, reuse_weights=True,\n",
    "                                                                   regridname='regrid_U2U_face')\n",
    "\n",
    "    rawUvel_Vpoint = MITgcm_recipes.regridding.regrid_2_mitgcm_llc(gecco_drowned_Uz, \n",
    "                                                                   aste_raw, ['u'], point='V',\n",
    "                                                                   method='bilinear',\n",
    "                                                                   periodic=True, reuse_weights=True,\n",
    "                                                                   regridname='regrid_U2V_face')\n",
    "\n",
    "    rawVvel_Upoint = MITgcm_recipes.regridding.regrid_2_mitgcm_llc(gecco_drowned_Vz, \n",
    "                                                                   aste_raw, ['v'], point='U',\n",
    "                                                                   method='bilinear',\n",
    "                                                                   periodic=True, reuse_weights=True,\n",
    "                                                                   regridname='regrid_V2U_face')\n",
    "\n",
    "    rawVvel_Vpoint = MITgcm_recipes.regridding.regrid_2_mitgcm_llc(gecco_drowned_Vz, \n",
    "                                                                   aste_raw, ['v'], point='V',\n",
    "                                                                   method='bilinear',\n",
    "                                                                   periodic=True, reuse_weights=True,\n",
    "                                                                   regridname='regrid_V2V_face')\n",
    "    \n",
    "    # 4. Rotate the velocities\n",
    "    u_aste =   rawUvel_Upoint['u'] * aste_out['CS'].rename({'i':'i_g'}) + \\\n",
    "               rawVvel_Upoint['v'] * aste_out['SN'].rename({'i':'i_g'})\n",
    "    v_aste = - rawUvel_Vpoint['u'] * aste_out['SN'].rename({'j':'j_g'}) + \\\n",
    "               rawVvel_Vpoint['v'] * aste_out['CS'].rename({'j':'j_g'})\n",
    "    \n",
    "    # 5. mask the results\n",
    "    masked_u = MITgcm_recipes.regridding.mask_output_zeros(u_aste, aste_out, point='U')\n",
    "    masked_v = MITgcm_recipes.regridding.mask_output_zeros(v_aste, aste_out, point='V')\n",
    "    \n",
    "    # 6. Extract the OBC\n",
    "    u_obcs[kt,:,:] = MITgcm_recipes.open_boundary.extract_obc_raw(masked_u.expand_dims('time'), \n",
    "                                                                  obcs_u, 1170, 50, 1)\n",
    "    u_obce[kt,:,:] = MITgcm_recipes.open_boundary.extract_obc_raw(masked_u.expand_dims('time'), \n",
    "                                                                  obce_u, 1260, 50, 1)\n",
    "    \n",
    "    v_obcs[kt,:,:] = MITgcm_recipes.open_boundary.extract_obc_raw(masked_v.expand_dims('time'), \n",
    "                                                                  obcs_v, 1170, 50, 1)\n",
    "    v_obce[kt,:,:] = MITgcm_recipes.open_boundary.extract_obc_raw(masked_v.expand_dims('time'), \n",
    "                                                                  obce_v, 1260, 50, 1)\n",
    "    \n",
    "# Write to file\n",
    "xmitgcm.utils.write_to_binary(u_obcs.flatten(), 'u_GECCO_obc_south.bin', precision='single')\n",
    "xmitgcm.utils.write_to_binary(u_obce.flatten(), 'u_GECCO_obc_east.bin', precision='single')\n",
    "\n",
    "xmitgcm.utils.write_to_binary(v_obcs.flatten(), 'v_GECCO_obc_south.bin', precision='single')\n",
    "xmitgcm.utils.write_to_binary(v_obce.flatten(), 'v_GECCO_obc_east.bin', precision='single')"
   ]
  },
  {
   "cell_type": "markdown",
   "metadata": {},
   "source": [
    "## 3. Quick check (and a coffee)"
   ]
  },
  {
   "cell_type": "code",
   "execution_count": 19,
   "metadata": {},
   "outputs": [],
   "source": [
    "import matplotlib.pylab as plt\n",
    "from matplotlib import cm"
   ]
  },
  {
   "cell_type": "markdown",
   "metadata": {},
   "source": [
    "### 3.1 Temperature"
   ]
  },
  {
   "cell_type": "code",
   "execution_count": 48,
   "metadata": {},
   "outputs": [
    {
     "data": {
      "text/plain": [
       "<matplotlib.colorbar.Colorbar at 0x7fe2100cd198>"
      ]
     },
     "execution_count": 48,
     "metadata": {},
     "output_type": "execute_result"
    },
    {
     "data": {
      "image/png": "[encoded data removed]",
      "text/plain": [
       "<Figure size 720x360 with 2 Axes>"
      ]
     },
     "metadata": {},
     "output_type": "display_data"
    }
   ],
   "source": [
    "plt.figure(figsize=[10,5])\n",
    "plt.contourf(temp_obcs[0,:,:], 30, cmap=cm.gist_ncar); plt.colorbar()"
   ]
  },
  {
   "cell_type": "code",
   "execution_count": 47,
   "metadata": {},
   "outputs": [
    {
     "data": {
      "text/plain": [
       "<matplotlib.colorbar.Colorbar at 0x7fe210175240>"
      ]
     },
     "execution_count": 47,
     "metadata": {},
     "output_type": "execute_result"
    },
    {
     "data": {
      "image/png": "[encoded data removed]",
      "text/plain": [
       "<Figure size 720x360 with 2 Axes>"
      ]
     },
     "metadata": {},
     "output_type": "display_data"
    }
   ],
   "source": [
    "plt.figure(figsize=[10,5])\n",
    "plt.contourf(temp_obce[0,:,:], 30, cmap=cm.gist_ncar); plt.colorbar()"
   ]
  },
  {
   "cell_type": "markdown",
   "metadata": {},
   "source": [
    "### 3.2 Salinity"
   ]
  },
  {
   "cell_type": "code",
   "execution_count": 52,
   "metadata": {},
   "outputs": [
    {
     "data": {
      "text/plain": [
       "<matplotlib.colorbar.Colorbar at 0x7fe19034e400>"
      ]
     },
     "execution_count": 52,
     "metadata": {},
     "output_type": "execute_result"
    },
    {
     "data": {
      "image/png": "[encoded data removed]",
      "text/plain": [
       "<Figure size 720x360 with 2 Axes>"
      ]
     },
     "metadata": {},
     "output_type": "display_data"
    }
   ],
   "source": [
    "plt.figure(figsize=[10,5])\n",
    "plt.contourf(salt_obcs[0,:,:], 120, cmap=cm.jet, vmin=33, vmax=36); plt.colorbar()"
   ]
  },
  {
   "cell_type": "code",
   "execution_count": 53,
   "metadata": {},
   "outputs": [
    {
     "data": {
      "text/plain": [
       "<matplotlib.colorbar.Colorbar at 0x7fe19015bef0>"
      ]
     },
     "execution_count": 53,
     "metadata": {},
     "output_type": "execute_result"
    },
    {
     "data": {
      "image/png": "[encoded data removed]",
      "text/plain": [
       "<Figure size 720x360 with 2 Axes>"
      ]
     },
     "metadata": {},
     "output_type": "display_data"
    }
   ],
   "source": [
    "plt.figure(figsize=[10,5])\n",
    "plt.contourf(salt_obce[0,:,:], 120, cmap=cm.jet, vmin=33, vmax=36); plt.colorbar()"
   ]
  },
  {
   "cell_type": "markdown",
   "metadata": {},
   "source": [
    "### 3.3 U velocity"
   ]
  },
  {
   "cell_type": "code",
   "execution_count": 69,
   "metadata": {},
   "outputs": [
    {
     "data": {
      "text/plain": [
       "<matplotlib.colorbar.Colorbar at 0x7fe158080828>"
      ]
     },
     "execution_count": 69,
     "metadata": {},
     "output_type": "execute_result"
    },
    {
     "data": {
      "image/png": "[encoded data removed]",
      "text/plain": [
       "<Figure size 720x360 with 2 Axes>"
      ]
     },
     "metadata": {},
     "output_type": "display_data"
    }
   ],
   "source": [
    "plt.figure(figsize=[10,5])\n",
    "plt.pcolor(u_obcs[0,:,:], vmin=-0.05, vmax=0.05, cmap=cm.bwr); plt.colorbar()"
   ]
  },
  {
   "cell_type": "code",
   "execution_count": 65,
   "metadata": {},
   "outputs": [
    {
     "data": {
      "text/plain": [
       "<matplotlib.colorbar.Colorbar at 0x7fdee51d7898>"
      ]
     },
     "execution_count": 65,
     "metadata": {},
     "output_type": "execute_result"
    },
    {
     "data": {
      "image/png": "[encoded data removed]",
      "text/plain": [
       "<Figure size 720x360 with 2 Axes>"
      ]
     },
     "metadata": {},
     "output_type": "display_data"
    }
   ],
   "source": [
    "plt.figure(figsize=[10,5])\n",
    "plt.pcolor(u_obce[0,:,:], vmin=-0.1, vmax=0.1, cmap=cm.bwr); plt.colorbar()"
   ]
  },
  {
   "cell_type": "code",
   "execution_count": 67,
   "metadata": {},
   "outputs": [
    {
     "data": {
      "text/plain": [
       "array([[-0.08338464],\n",
       "       [-0.09827919],\n",
       "       [-0.10659299],\n",
       "       [-0.10753442],\n",
       "       [-0.10716258],\n",
       "       [-0.1063381 ],\n",
       "       [-0.10584439],\n",
       "       [-0.1041798 ],\n",
       "       [-0.10074557],\n",
       "       [-0.09645337],\n",
       "       [-0.09310442],\n",
       "       [-0.09115606],\n",
       "       [-0.0901727 ],\n",
       "       [-0.08812659],\n",
       "       [-0.08982232],\n",
       "       [-0.08682836],\n",
       "       [-0.08157831],\n",
       "       [-0.07173223],\n",
       "       [-0.09006002],\n",
       "       [-0.11905727],\n",
       "       [ 0.        ],\n",
       "       [ 0.        ],\n",
       "       [ 0.        ],\n",
       "       [ 0.        ],\n",
       "       [ 0.        ],\n",
       "       [ 0.        ],\n",
       "       [ 0.        ],\n",
       "       [ 0.        ],\n",
       "       [ 0.        ],\n",
       "       [ 0.        ],\n",
       "       [ 0.        ],\n",
       "       [ 0.        ],\n",
       "       [ 0.        ],\n",
       "       [ 0.        ],\n",
       "       [ 0.        ],\n",
       "       [ 0.        ],\n",
       "       [ 0.        ],\n",
       "       [ 0.        ],\n",
       "       [ 0.        ],\n",
       "       [ 0.        ],\n",
       "       [ 0.        ],\n",
       "       [ 0.        ],\n",
       "       [ 0.        ],\n",
       "       [ 0.        ],\n",
       "       [ 0.        ],\n",
       "       [ 0.        ],\n",
       "       [ 0.        ],\n",
       "       [ 0.        ],\n",
       "       [ 0.        ],\n",
       "       [ 0.        ]])"
      ]
     },
     "execution_count": 67,
     "metadata": {},
     "output_type": "execute_result"
    }
   ],
   "source": [
    "# the gibraltar point doesn't show but is in the data\n",
    "u_obce[0,:,261:262]"
   ]
  },
  {
   "cell_type": "markdown",
   "metadata": {},
   "source": [
    "### 3.3 V velocity"
   ]
  },
  {
   "cell_type": "code",
   "execution_count": 70,
   "metadata": {},
   "outputs": [
    {
     "data": {
      "text/plain": [
       "<matplotlib.colorbar.Colorbar at 0x7fded288a3c8>"
      ]
     },
     "execution_count": 70,
     "metadata": {},
     "output_type": "execute_result"
    },
    {
     "data": {
      "image/png": "[encoded data removed]",
      "text/plain": [
       "<Figure size 720x360 with 2 Axes>"
      ]
     },
     "metadata": {},
     "output_type": "display_data"
    }
   ],
   "source": [
    "plt.figure(figsize=[10,5])\n",
    "plt.pcolor(v_obcs[0,:,:], vmin=-0.05, vmax=0.05, cmap=cm.bwr); plt.colorbar()"
   ]
  },
  {
   "cell_type": "code",
   "execution_count": 71,
   "metadata": {},
   "outputs": [
    {
     "data": {
      "text/plain": [
       "<matplotlib.colorbar.Colorbar at 0x7fded032ba20>"
      ]
     },
     "execution_count": 71,
     "metadata": {},
     "output_type": "execute_result"
    },
    {
     "data": {
      "image/png": "[encoded data removed]",
      "text/plain": [
       "<Figure size 720x360 with 2 Axes>"
      ]
     },
     "metadata": {},
     "output_type": "display_data"
    }
   ],
   "source": [
    "plt.figure(figsize=[10,5])\n",
    "plt.pcolor(v_obce[0,:,:], vmin=-0.1, vmax=0.1, cmap=cm.bwr); plt.colorbar()"
   ]
  }
 ],
 "metadata": {
  "kernelspec": {
   "display_name": "Python3 (dev,raf)",
   "language": "python",
   "name": "dev"
  },
  "language_info": {
   "codemirror_mode": {
    "name": "ipython",
    "version": 3
   },
   "file_extension": ".py",
   "mimetype": "text/x-python",
   "name": "python",
   "nbconvert_exporter": "python",
   "pygments_lexer": "ipython3",
   "version": "3.6.5"
  }
 },
 "nbformat": 4,
 "nbformat_minor": 2
}
