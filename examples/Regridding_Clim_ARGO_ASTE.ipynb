{
 "cells": [
  {
   "cell_type": "markdown",
   "metadata": {},
   "source": [
    "# Regridding the Roemmich/Gilson ARGO clim onto the ASTE grid"
   ]
  },
  {
   "cell_type": "code",
   "execution_count": null,
   "metadata": {},
   "outputs": [],
   "source": [
    "import xarray as xr\n",
    "import xmitgcm\n",
    "import MITgcm_recipes\n",
    "#import tqdm\n",
    "import numpy as np\n",
    "import warnings\n",
    "warnings.filterwarnings(\"ignore\")"
   ]
  },
  {
   "cell_type": "markdown",
   "metadata": {},
   "source": [
    "## Get the datasets"
   ]
  },
  {
   "cell_type": "markdown",
   "metadata": {},
   "source": [
    "### ARGO climatology"
   ]
  },
  {
   "cell_type": "code",
   "execution_count": null,
   "metadata": {},
   "outputs": [],
   "source": [
    "data_dir = '/local/data/artemis/workspace/rdussin/Observations/RG_ARGO_clim/originals/'\n",
    "ds = xr.open_mfdataset(data_dir + '*.nc', decode_times=False, chunks={'TIME':1})"
   ]
  },
  {
   "cell_type": "code",
   "execution_count": null,
   "metadata": {},
   "outputs": [],
   "source": [
    "ds"
   ]
  },
  {
   "cell_type": "markdown",
   "metadata": {},
   "source": [
    "### ASTE raw grid"
   ]
  },
  {
   "cell_type": "code",
   "execution_count": null,
   "metadata": {},
   "outputs": [],
   "source": [
    "file_aste_raw = '/local/data/artemis/workspace/rdussin/ASTE/GRID/nc/aste_grid.nc'\n",
    "aste_raw = xr.open_dataset(file_aste_raw)"
   ]
  },
  {
   "cell_type": "markdown",
   "metadata": {},
   "source": [
    "### ASTE output grid"
   ]
  },
  {
   "cell_type": "code",
   "execution_count": null,
   "metadata": {},
   "outputs": [],
   "source": [
    "datadir_aste = '/local/data/artemis/workspace/rdussin/ASTE/RUNS/ASTE-Phy-Release1/outputs/'\n",
    "md = xmitgcm.utils.get_extra_metadata(domain='aste', nx=270)\n",
    "aste_out = xmitgcm.open_mdsdataset(datadir_aste, iters=[], prefix=['T','S','Eta','U','V'],\n",
    "                                   geometry='llc', nx=270, extra_metadata=md)"
   ]
  },
  {
   "cell_type": "markdown",
   "metadata": {},
   "source": [
    "## Vertical interpolation"
   ]
  },
  {
   "cell_type": "code",
   "execution_count": null,
   "metadata": {},
   "outputs": [],
   "source": [
    "# mean\n",
    "mdsz = MITgcm_recipes.vertical_interpolation(ds, aste_out['Z'], ['ARGO_SALINITY_MEAN',\n",
    "                                                                 'ARGO_TEMPERATURE_MEAN'],\n",
    "                                            lonvar='LONGITUDE', \n",
    "                                            latvar='LATITUDE',\n",
    "                                            depth_varin='PRESSURE',\n",
    "                                            timevar=None)"
   ]
  },
  {
   "cell_type": "code",
   "execution_count": null,
   "metadata": {},
   "outputs": [],
   "source": [
    "# anomalies\n",
    "adsz = MITgcm_recipes.vertical_interpolation(ds, aste_out['Z'], ['ARGO_SALINITY_ANOMALY',\n",
    "                                                                 'ARGO_TEMPERATURE_ANOMALY'],\n",
    "                                             lonvar='LONGITUDE', \n",
    "                                             latvar='LATITUDE',\n",
    "                                             depth_varin='PRESSURE',\n",
    "                                             timevar='TIME')"
   ]
  },
  {
   "cell_type": "code",
   "execution_count": null,
   "metadata": {},
   "outputs": [],
   "source": [
    "def geo_roll_20_to_180(ds, londim):\n",
    "    datalon=ds[londim].values\n",
    "    datalon[datalon>180] -= 360\n",
    "    ind = (np.abs(datalon-180.)).argmin()\n",
    "    ds[londim] = datalon\n",
    "    ds = ds.roll(**{londim: -ind-1})\n",
    "    return ds"
   ]
  },
  {
   "cell_type": "code",
   "execution_count": null,
   "metadata": {},
   "outputs": [],
   "source": [
    "mdsz180 = geo_roll_20_to_180(mdsz, 'LONGITUDE')"
   ]
  },
  {
   "cell_type": "code",
   "execution_count": null,
   "metadata": {},
   "outputs": [],
   "source": [
    "mdsz180['ARGO_TEMPERATURE_MEAN'].sel(k=0).plot(cmap='gist_ncar')"
   ]
  },
  {
   "cell_type": "markdown",
   "metadata": {},
   "source": [
    "## Regridding"
   ]
  },
  {
   "cell_type": "code",
   "execution_count": null,
   "metadata": {},
   "outputs": [],
   "source": [
    "adsz180 = geo_roll_20_to_180(adsz, 'LONGITUDE')"
   ]
  },
  {
   "cell_type": "code",
   "execution_count": null,
   "metadata": {},
   "outputs": [],
   "source": [
    "mdsz_aste = MITgcm_recipes.regridding.regrid_2_mitgcm_llc(mdsz180, aste_raw, ['ARGO_SALINITY_MEAN',\n",
    "                                                                           'ARGO_TEMPERATURE_MEAN'], \n",
    "                                                          method='bilinear',\n",
    "                                                          lonname='LONGITUDE', \n",
    "                                                          latname='LATITUDE', \n",
    "                                                          point='T', \n",
    "                                                          periodic=True, reuse_weights=False,\n",
    "                                                          regridname='ClimARGO_aste_face')"
   ]
  },
  {
   "cell_type": "code",
   "execution_count": null,
   "metadata": {},
   "outputs": [],
   "source": [
    "adsz_aste = MITgcm_recipes.regridding.regrid_2_mitgcm_llc(adsz180, aste_raw, ['ARGO_SALINITY_ANOMALY',\n",
    "                                                                           'ARGO_TEMPERATURE_ANOMALY'], \n",
    "                                                          method='bilinear',\n",
    "                                                          lonname='LONGITUDE', \n",
    "                                                          latname='LATITUDE', \n",
    "                                                          point='T', \n",
    "                                                          periodic=True, reuse_weights=True,\n",
    "                                                          regridname='ClimARGO_aste_face')"
   ]
  },
  {
   "cell_type": "markdown",
   "metadata": {},
   "source": [
    "## Checking the results"
   ]
  },
  {
   "cell_type": "code",
   "execution_count": null,
   "metadata": {},
   "outputs": [],
   "source": [
    "mdsz_aste['ARGO_TEMPERATURE_MEAN'].isel(face=1, k=0).plot(cmap='gist_ncar')"
   ]
  },
  {
   "cell_type": "code",
   "execution_count": null,
   "metadata": {},
   "outputs": [],
   "source": [
    "mdsz_aste['ARGO_SALINITY_MEAN'].isel(face=1, k=0).plot(cmap='jet')"
   ]
  },
  {
   "cell_type": "markdown",
   "metadata": {},
   "source": [
    "## Write to netcdf file"
   ]
  },
  {
   "cell_type": "code",
   "execution_count": null,
   "metadata": {},
   "outputs": [],
   "source": [
    "mdsz_aste.to_netcdf(data_dir + '../interp_ASTE/' + 'Roemmich_Clim_ARGO_TS_ASTE.nc')"
   ]
  },
  {
   "cell_type": "code",
   "execution_count": null,
   "metadata": {},
   "outputs": [],
   "source": [
    "adsz_aste = adsz_aste.rename({'TIME': 'time'}, inplace=True).transpose(*('time','face','k','j','i'))"
   ]
  },
  {
   "cell_type": "code",
   "execution_count": null,
   "metadata": {},
   "outputs": [],
   "source": [
    "adsz_aste.to_netcdf(data_dir + '../interp_ASTE/' + 'Roemmich_AnomClim_ARGO_TS_ASTE.nc', unlimited_dims='time')"
   ]
  }
 ],
 "metadata": {
  "kernelspec": {
   "display_name": "Python3 (production2)",
   "language": "python",
   "name": "production2"
  },
  "language_info": {
   "codemirror_mode": {
    "name": "ipython",
    "version": 3
   },
   "file_extension": ".py",
   "mimetype": "text/x-python",
   "name": "python",
   "nbconvert_exporter": "python",
   "pygments_lexer": "ipython3",
   "version": "3.6.7"
  }
 },
 "nbformat": 4,
 "nbformat_minor": 2
}
