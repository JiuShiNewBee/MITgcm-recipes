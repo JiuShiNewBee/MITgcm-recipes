{
 "cells": [
  {
   "cell_type": "markdown",
   "metadata": {},
   "source": [
    "# Attempt to correct OBCs"
   ]
  },
  {
   "cell_type": "code",
   "execution_count": 1,
   "metadata": {},
   "outputs": [],
   "source": [
    "datadir = '/local/data/artemis/workspace/rdussin/OBCS_GECCO2_FIX/'"
   ]
  },
  {
   "cell_type": "code",
   "execution_count": 11,
   "metadata": {},
   "outputs": [],
   "source": [
    "import numpy as np\n",
    "import xarray as xr\n",
    "import matplotlib.pylab as plt\n",
    "from matplotlib import cm"
   ]
  },
  {
   "cell_type": "code",
   "execution_count": 7,
   "metadata": {},
   "outputs": [],
   "source": [
    "%matplotlib inline"
   ]
  },
  {
   "cell_type": "code",
   "execution_count": 5,
   "metadata": {},
   "outputs": [],
   "source": [
    "nxtot = 1170 # for OBC south\n",
    "nytot = 1260 # for OBC east"
   ]
  },
  {
   "cell_type": "code",
   "execution_count": 3,
   "metadata": {},
   "outputs": [],
   "source": [
    "fu_obc_east = datadir + 'u_GECCO_obc_east.bin'"
   ]
  },
  {
   "cell_type": "code",
   "execution_count": 6,
   "metadata": {},
   "outputs": [],
   "source": [
    "data_u_in = np.fromfile(fu_obc_east,'>f')\n",
    "data_u_in = np.reshape(data_u_in, [-1,50,nytot])"
   ]
  },
  {
   "cell_type": "code",
   "execution_count": 25,
   "metadata": {},
   "outputs": [
    {
     "data": {
      "text/plain": [
       "[<matplotlib.lines.Line2D at 0x7f311365ca90>]"
      ]
     },
     "execution_count": 25,
     "metadata": {},
     "output_type": "execute_result"
    },
    {
     "data": {
      "image/png": "[encoded data removed]",
      "text/plain": [
       "<Figure size 432x288 with 1 Axes>"
      ]
     },
     "metadata": {
      "needs_background": "light"
     },
     "output_type": "display_data"
    }
   ],
   "source": [
    "# the entire OBC is covering facet 1, 2, 3 and 5\n",
    "plt.contourf(data_u_in[0,:,:], np.arange(-0.5,0.5,0.01), cmap=cm.bwr)\n",
    "plt.plot(450 * np.ones(50), np.arange(50), 'k--') # atlantic\n",
    "plt.plot(450+270 * np.ones(50), np.arange(50), 'k--') # arctic (no OBCs)\n",
    "plt.plot(450+270+43 * np.ones(50), np.arange(50), 'k--') # Okhotsk\n",
    "plt.plot(450+270+270 * np.ones(50), np.arange(50), 'k--') # NEP\n",
    "# the end is south atlantic in last facet"
   ]
  },
  {
   "cell_type": "code",
   "execution_count": 27,
   "metadata": {},
   "outputs": [],
   "source": [
    "# We need metrics\n",
    "import xmitgcm\n",
    "asteR1 = '/local/data/artemis/simulations/ASTE/r1/'\n",
    "aste_md = xmitgcm.utils.get_extra_metadata(domain='aste', nx=270)\n",
    "aste = xmitgcm.open_mdsdataset(asteR1 + 'diags/', grid_dir=asteR1 + 'grid/',\n",
    "                               geometry='llc', nx=270, extra_metadata=aste_md)"
   ]
  },
  {
   "cell_type": "code",
   "execution_count": 31,
   "metadata": {},
   "outputs": [],
   "source": [
    "# fortunately we are gonna work only on face 3\n",
    "# we need to know the section to apply to normalize\n",
    "section_surf = (aste['dyG'] * aste['drF']).sel(face=3, i_g=124)"
   ]
  },
  {
   "cell_type": "code",
   "execution_count": 32,
   "metadata": {},
   "outputs": [
    {
     "data": {
      "text/plain": [
       "<xarray.DataArray (j: 270, k: 50)>\n",
       "dask.array<shape=(270, 50), dtype=float32, chunksize=(270, 50)>\n",
       "Coordinates:\n",
       "    i_g      int64 124\n",
       "  * j        (j) int64 0 1 2 3 4 5 6 7 8 ... 261 262 263 264 265 266 267 268 269\n",
       "    face     int64 3\n",
       "    dyG      (j) >f4 dask.array<shape=(270,), chunksize=(270,)>\n",
       "    dxC      (j) >f4 dask.array<shape=(270,), chunksize=(270,)>\n",
       "    rAw      (j) >f4 dask.array<shape=(270,), chunksize=(270,)>\n",
       "    maskInW  (j) bool dask.array<shape=(270,), chunksize=(270,)>\n",
       "  * k        (k) int64 0 1 2 3 4 5 6 7 8 9 10 ... 40 41 42 43 44 45 46 47 48 49\n",
       "    Z        (k) >f4 dask.array<shape=(50,), chunksize=(50,)>\n",
       "    drF      (k) >f4 dask.array<shape=(50,), chunksize=(50,)>\n",
       "    PHrefC   (k) >f4 dask.array<shape=(50,), chunksize=(50,)>"
      ]
     },
     "execution_count": 32,
     "metadata": {},
     "output_type": "execute_result"
    }
   ],
   "source": [
    "section_surf"
   ]
  },
  {
   "cell_type": "code",
   "execution_count": 59,
   "metadata": {},
   "outputs": [],
   "source": [
    "# Okhotsk sea goes from 0 to 42\n",
    "section_surf_okh = section_surf.sel(j=slice(0,42))\n",
    "# NEP does the rest\n",
    "section_surf_nep = section_surf.sel(j=slice(43,270))"
   ]
  },
  {
   "cell_type": "code",
   "execution_count": 57,
   "metadata": {},
   "outputs": [
    {
     "name": "stdout",
     "output_type": "stream",
     "text": [
      "719 762 763 990\n"
     ]
    }
   ],
   "source": [
    "# in the numpy world\n",
    "nstart_ohk = 450+270-1\n",
    "nend_ohk = nstart_ohk+43\n",
    "\n",
    "nstart_nep=nend_ohk+1\n",
    "nend_nep=450+270+270\n",
    "\n",
    "print(nstart_ohk, nend_ohk, nstart_nep, nend_nep)"
   ]
  },
  {
   "cell_type": "code",
   "execution_count": 43,
   "metadata": {},
   "outputs": [],
   "source": [
    "Tr_1 = (data_u_in[:,:,nstart_ohk:nend_ohk] * section_surf_okh.values.transpose()).sum(axis=2).sum(axis=1)"
   ]
  },
  {
   "cell_type": "code",
   "execution_count": 46,
   "metadata": {},
   "outputs": [],
   "source": [
    "# we want this to be zero so the easiest way is to put\n",
    "data_u_out = data_u_in.copy()\n",
    "data_u_out[:,:,nstart_ohk:nend_ohk] = 0."
   ]
  },
  {
   "cell_type": "code",
   "execution_count": 60,
   "metadata": {},
   "outputs": [],
   "source": [
    "Tr_2 = (data_u_in[:,:,nstart_nep:nend_nep] * section_surf_nep.values.transpose()).sum(axis=2).sum(axis=1)"
   ]
  },
  {
   "cell_type": "code",
   "execution_count": 62,
   "metadata": {},
   "outputs": [],
   "source": [
    "# We want the total transport to be -1 Sv so we create a multiplication ratio\n",
    "factor = -1e+6 / Tr_2"
   ]
  },
  {
   "cell_type": "code",
   "execution_count": 67,
   "metadata": {},
   "outputs": [],
   "source": [
    "nt=data_u_in.shape[0]\n",
    "for kt in np.arange(nt):\n",
    "    data_u_out[kt,:,nstart_nep:nend_nep] = factor[kt] * data_u_in[kt,:,nstart_nep:nend_nep]"
   ]
  },
  {
   "cell_type": "code",
   "execution_count": 69,
   "metadata": {},
   "outputs": [],
   "source": [
    "xmitgcm.utils.write_to_binary(data_u_out.flatten(), datadir + 'u_GECCO_obc_east_total1Sv.bin')"
   ]
  },
  {
   "cell_type": "code",
   "execution_count": 70,
   "metadata": {},
   "outputs": [],
   "source": [
    "# verif"
   ]
  },
  {
   "cell_type": "code",
   "execution_count": 71,
   "metadata": {},
   "outputs": [],
   "source": [
    "data_u_new = np.fromfile(datadir + 'u_GECCO_obc_east_total1Sv.bin','>f')\n",
    "data_u_new = np.reshape(data_u_new, [-1,50,nytot])\n"
   ]
  },
  {
   "cell_type": "code",
   "execution_count": 74,
   "metadata": {},
   "outputs": [
    {
     "data": {
      "text/plain": [
       "[<matplotlib.lines.Line2D at 0x7f30100606a0>]"
      ]
     },
     "execution_count": 74,
     "metadata": {},
     "output_type": "execute_result"
    },
    {
     "data": {
      "image/png": "[encoded data removed]",
      "text/plain": [
       "<Figure size 432x288 with 2 Axes>"
      ]
     },
     "metadata": {
      "needs_background": "light"
     },
     "output_type": "display_data"
    }
   ],
   "source": [
    "# the entire OBC is covering facet 1, 2, 3 and 5\n",
    "plt.contourf(data_u_new[0,:,:], np.arange(-0.25,0.25,0.01), cmap=cm.bwr)\n",
    "plt.colorbar()\n",
    "plt.plot(450 * np.ones(50), np.arange(50), 'k--') # atlantic\n",
    "plt.plot(450+270 * np.ones(50), np.arange(50), 'k--') # arctic (no OBCs)\n",
    "plt.plot(450+270+43 * np.ones(50), np.arange(50), 'k--') # Okhotsk\n",
    "plt.plot(450+270+270 * np.ones(50), np.arange(50), 'k--') # NEP\n",
    "# the end is south atlantic in last facet"
   ]
  },
  {
   "cell_type": "code",
   "execution_count": 75,
   "metadata": {},
   "outputs": [],
   "source": [
    "Tr_new = (data_u_new[:,:,nstart_nep:nend_nep] * section_surf_nep.values.transpose()).sum(axis=2).sum(axis=1)"
   ]
  },
  {
   "cell_type": "code",
   "execution_count": 77,
   "metadata": {},
   "outputs": [
    {
     "data": {
      "text/plain": [
       "array([-0.99999998, -0.99999999, -1.00000005, -0.99999999, -0.99999998,\n",
       "       -1.00000003, -0.99999996, -0.99999999, -0.99999998, -0.99999995,\n",
       "       -1.00000001, -1.0000006 , -0.99999994, -0.99999999, -1.00000002,\n",
       "       -0.99999996, -1.00000004, -0.99999998, -0.99999999, -1.00000122,\n",
       "       -1.00000002, -0.99999997, -1.00000004, -1.00000004, -1.00000002,\n",
       "       -1.00000004, -0.99999999, -0.99999991, -1.00000001, -0.99999996,\n",
       "       -1.00000001, -0.99999999, -0.99999996, -0.99999993, -1.00000002,\n",
       "       -1.00000006, -0.99999996, -1.        , -1.00000011, -1.        ,\n",
       "       -1.00000002, -1.        , -1.        , -0.99999998, -1.00000005,\n",
       "       -1.00000001, -1.00000001, -0.99999974, -1.        , -0.99999999,\n",
       "       -1.00000045, -1.00000006, -1.        , -0.99999999, -0.99999997,\n",
       "       -0.99999995, -1.00000003, -0.99999998, -0.99999996, -0.99999996,\n",
       "       -1.00000002, -0.99999998, -0.99999997, -1.00000004, -1.00000002,\n",
       "       -0.99999996, -1.00000006, -1.00000003, -0.99999998, -1.00000003,\n",
       "       -1.00000001, -0.99999997, -0.99999999, -1.00000002, -1.00000002,\n",
       "       -0.99999997, -1.00000002, -1.00000002, -1.00000005, -1.00000002,\n",
       "       -0.99999998, -0.99999998, -0.99999998, -1.00000001, -1.00000005,\n",
       "       -1.00000004, -1.00000004, -1.        , -1.00000003, -1.00000001,\n",
       "       -1.00000006, -1.00000003, -0.99999998, -0.99999996, -0.99999999,\n",
       "       -1.00000002, -1.00000004, -1.00000012, -1.00000005, -0.99999997,\n",
       "       -1.00000003, -0.99999993, -0.99999998, -1.00000001, -1.00000003,\n",
       "       -1.00000001, -0.99999997, -1.00000003, -0.99999998, -1.00000001,\n",
       "       -0.99999997, -0.99999997, -1.        , -1.        , -0.99999999,\n",
       "       -1.        , -1.00000001, -1.00000004, -0.99999997, -1.        ,\n",
       "       -1.        , -1.        , -1.        , -1.        , -0.99999997,\n",
       "       -0.99999997, -1.00000003, -1.00000003, -1.00000003, -0.99999995,\n",
       "       -1.        , -1.00000005, -1.00000004, -0.99999996, -1.00000002,\n",
       "       -1.00000001, -0.99999999, -1.00000004, -0.99999996, -1.00000001,\n",
       "       -1.00000002, -0.99999995, -0.99999998, -1.        , -0.99999998,\n",
       "       -0.99999995, -0.99999995, -1.00000001, -1.00000003, -0.99999995,\n",
       "       -1.        , -1.        , -0.99999997, -0.99999997, -1.        ,\n",
       "       -0.99999997, -1.00000003, -1.00000003, -1.00000003, -0.99999997,\n",
       "       -0.99999999, -0.99999998, -0.99999999, -1.00000005, -1.00000009,\n",
       "       -1.        , -0.99999996, -1.00000001, -1.00000004, -1.00000005,\n",
       "       -0.99999996, -1.        , -1.00000012, -1.00000032, -0.99999996,\n",
       "       -1.        , -1.00000004, -1.00000001, -1.        , -0.99999997,\n",
       "       -1.00000003, -1.00000002, -1.        , -1.00000015, -0.99999994,\n",
       "       -0.99999996, -1.00000002, -1.00000001, -0.99999998, -1.00000001,\n",
       "       -0.99999999, -1.00000003, -1.00000001, -1.00000003, -1.00000025,\n",
       "       -1.        , -0.99999998, -1.00000008, -0.99999999, -1.00000003,\n",
       "       -0.99999996, -1.00000001, -0.99999999, -1.00000002, -1.00000006,\n",
       "       -1.00000001, -0.99999998, -1.00000001, -1.        , -0.99999999,\n",
       "       -1.00000004, -1.00000002, -0.99999997, -0.99999991, -1.00000008,\n",
       "       -1.00000025, -1.00000003, -0.99999997, -0.99999995, -0.99999996,\n",
       "       -0.99999997, -1.        , -1.00000002, -1.        , -1.00000002,\n",
       "       -1.00000005, -0.99999994, -1.00000003, -1.00000002, -0.99999998,\n",
       "       -1.00000007, -0.99999851, -1.00000001, -1.00000002, -1.00000004,\n",
       "       -1.        , -0.99999995, -0.99999998, -0.99999997, -0.99999999,\n",
       "       -0.99999996, -1.00000006, -1.        , -0.99999998, -0.99999999,\n",
       "       -1.00000002, -0.99999998, -0.99999996, -0.99999998, -0.99999998,\n",
       "       -0.99999998, -1.00000004, -1.00000002, -1.00000007, -0.99999999,\n",
       "       -1.00000003, -1.00000002, -1.00000002, -0.99999998, -1.        ,\n",
       "       -1.00000005, -0.99999998, -0.99999996, -1.00000003, -1.00000003,\n",
       "       -0.99999999, -1.        , -1.00000003, -1.00000002, -0.99999998,\n",
       "       -0.99999999, -0.99999999, -1.00000003, -0.99999998, -1.00000004,\n",
       "       -0.99999985, -1.        , -1.00000001, -0.99999999, -1.00000001,\n",
       "       -1.        , -0.99999999, -0.99999998, -1.00000002, -0.99999998,\n",
       "       -0.99999996, -0.99999997, -1.00000002, -1.00000003, -1.00000003,\n",
       "       -1.00000022, -1.        , -1.        , -0.99999997, -1.00000003,\n",
       "       -1.00000002, -1.00000002, -1.00000001, -1.00000002, -1.00000004,\n",
       "       -1.00000001, -1.        , -0.99999998, -1.00000004, -1.00000003,\n",
       "       -1.00000003, -0.99999999, -1.00000002, -0.99999996, -0.99999997,\n",
       "       -1.        , -1.00000001, -1.00000003, -0.99999998, -0.99999997,\n",
       "       -0.99999997, -0.99999999, -1.        , -0.99999997, -1.00000001,\n",
       "       -1.00000005, -1.00000001, -0.99999996, -1.00000001, -1.00000001,\n",
       "       -1.00000002, -0.99999997, -1.00000003, -1.00000004, -0.99999995,\n",
       "       -0.99999997, -0.99999998, -0.99999999, -0.99999998, -1.00000002,\n",
       "       -0.99999996, -0.99999999, -1.        , -0.99999995, -1.00000008,\n",
       "       -0.99999996, -1.00000003, -1.00000002, -0.99999999, -0.99999998,\n",
       "       -1.00000002, -0.99999999, -1.        , -0.99999997, -1.        ,\n",
       "       -0.99999993, -0.99999997, -1.00000002, -0.99999998, -1.00000001,\n",
       "       -1.00000004, -0.99999998, -1.00000001, -1.00000003, -1.00000002,\n",
       "       -0.99999997, -1.00000004, -1.        , -1.00000001, -1.0000001 ,\n",
       "       -1.00000004, -1.00000003, -1.00000005, -1.00000001, -0.99999998,\n",
       "       -1.00000002, -0.99999999, -0.99999999, -0.99999995, -0.99999999,\n",
       "       -0.99999999, -1.        , -0.99999997, -1.        , -1.00000003,\n",
       "       -1.00000002, -1.00000001, -0.99999998, -1.00000003, -0.99999998,\n",
       "       -0.99999997, -0.99999997, -0.99999999, -1.        , -0.99999998,\n",
       "       -0.99999996, -1.00000002, -0.99999998, -1.00000004, -1.00000004,\n",
       "       -0.99999998, -1.        , -1.00000002, -1.00000001, -1.00000001,\n",
       "       -1.00000003, -0.99999999, -1.00000003, -0.99999999, -1.        ,\n",
       "       -0.99999998, -1.00000001, -1.00000001, -0.99999999, -0.99999999,\n",
       "       -1.        , -1.00000004, -1.00000002, -0.99999994, -0.99999997,\n",
       "       -0.99999998, -1.00000003, -1.        , -1.00000001, -0.99999995,\n",
       "       -0.99999998, -0.99999997, -1.00000001, -1.00000001, -1.00000001,\n",
       "       -0.99999998, -0.99999998, -0.99999993, -1.00000002, -1.00000002,\n",
       "       -0.99999998, -0.99999999, -1.00000002, -1.00000001, -0.99999999,\n",
       "       -1.00000002, -0.99999996, -1.        , -1.00000004, -0.99999999,\n",
       "       -0.99999998, -1.        , -0.99999999, -1.00000002, -0.99999998,\n",
       "       -0.99999999, -0.99999997, -0.99999997, -0.99999997, -1.00000003,\n",
       "       -0.99999997, -0.99999999, -0.99999998, -1.00000002, -1.00000003,\n",
       "       -0.99999999, -0.99999998, -0.99999998, -0.99999998, -1.00000002,\n",
       "       -1.00000041, -1.00000004, -1.        , -1.00000001, -1.        ,\n",
       "       -1.00000002, -0.99999999, -0.99999999, -1.00000001, -0.99999998,\n",
       "       -1.00000004, -1.00000001, -1.00000001, -1.00000003, -1.00000003,\n",
       "       -0.99999999, -0.99999999, -1.00000008, -1.        , -0.99999998,\n",
       "       -0.99999999, -0.99999999, -1.00000003, -0.99999998, -0.99999995,\n",
       "       -1.00000002, -1.        , -0.99999999, -1.00000002, -1.00000003,\n",
       "       -0.99999999, -1.00000005, -1.00000005, -0.99999999, -0.99999999,\n",
       "       -1.00000003, -0.99999999, -1.        , -0.99999999, -1.00000002,\n",
       "       -0.99999998, -1.00000001, -0.99999999, -0.99999999, -1.        ,\n",
       "       -0.99999999, -1.00000008, -1.00000002, -1.00000004, -1.00000002,\n",
       "       -1.00000002, -0.99999995, -1.00000001, -0.99999982, -1.00000004,\n",
       "       -0.99999997, -0.99999998, -1.00000003, -1.00000001, -0.99999924,\n",
       "       -0.99999999, -1.00000001, -0.99999997, -1.00000002, -1.00000004,\n",
       "       -0.99999996, -0.99999999, -1.        , -0.99999996, -0.99999996,\n",
       "       -1.        , -1.00000001, -1.00000005, -1.        , -1.00000001,\n",
       "       -0.99999998, -0.99999997, -1.        , -1.00000002, -0.99999988,\n",
       "       -0.99999994, -0.99999999, -1.00000001, -0.99999997, -1.00000003,\n",
       "       -1.        , -1.00000004, -1.00000005, -0.99999998, -0.99999992,\n",
       "       -1.00000002, -0.99999944, -1.00000004, -0.99999997, -1.00000002,\n",
       "       -0.99999996, -1.00000001, -0.99999999, -0.99999999, -1.00000002,\n",
       "       -0.99999998, -0.99999997, -1.00000003, -1.00000001, -1.00000002,\n",
       "       -1.00000001, -0.99999995, -0.99999997, -0.99999995, -0.99999994,\n",
       "       -1.00000001, -1.00000003, -1.        , -1.        , -0.99999993,\n",
       "       -0.99999999, -1.00000001, -1.00000001, -0.99999999, -1.        ,\n",
       "       -0.99999998, -0.99999999, -0.99999999, -0.99999999, -0.9999999 ,\n",
       "       -1.00000002, -1.00000001, -0.99999994, -1.00000001, -1.00000003,\n",
       "       -1.        , -1.        , -1.00000001, -0.99999999, -0.99999995,\n",
       "       -1.00000002, -1.00000001, -1.00000002, -1.        , -0.99999987,\n",
       "       -0.99999997, -0.99999996, -1.00000001, -1.0000001 , -0.99999997,\n",
       "       -0.99999999, -1.00000001, -1.00000002, -1.00000005, -1.00000009,\n",
       "       -1.00000003, -0.99999988, -1.        , -1.        , -0.99999998,\n",
       "       -1.00000003, -0.99999996, -1.00000002, -1.00000004, -1.00000002,\n",
       "       -0.99999999, -0.99999999, -1.00000001, -1.00000005, -0.99999998,\n",
       "       -0.99999998, -0.99999996, -0.99999998, -0.99999998, -1.        ,\n",
       "       -1.00000002, -1.00000002, -0.99999999, -1.00000003, -0.99999994,\n",
       "       -1.00000005, -0.99999999, -1.00000002, -0.99999999, -1.00000014,\n",
       "       -0.99999998, -0.99999999, -1.00000005, -0.99999991, -0.99999996,\n",
       "       -1.00000003, -1.00000001, -1.00000002, -1.00000001, -1.00000002,\n",
       "       -1.00000002, -1.00000001, -1.00000002, -0.99999998, -1.0000001 ,\n",
       "       -1.00000005, -1.00000005, -0.99999991, -1.00000004, -1.00000003,\n",
       "       -1.00000001, -0.99999996, -0.99999998, -1.00000001, -0.99999998,\n",
       "       -0.99999997, -1.00000002, -0.99999997, -0.99999998, -1.00000002,\n",
       "       -1.00000003, -0.99999989, -0.99999996, -1.00000004, -0.99999997,\n",
       "       -0.99999995, -1.        , -1.00000005, -0.99999997, -1.00000001,\n",
       "       -1.00000002, -0.99999996, -0.99999996, -1.00000005, -1.00000003,\n",
       "       -1.00000001, -1.00000001, -1.00000001, -0.99999999, -1.00000003,\n",
       "       -1.00000004, -0.99999997, -1.00000001, -1.00000001, -1.00000007,\n",
       "       -0.99999999, -0.99999997, -0.99999996, -1.00000001, -1.        ,\n",
       "       -0.99999999, -1.00000001, -1.00000001, -0.99999998, -1.00000001,\n",
       "       -1.00000018, -1.00000005, -1.00000003, -1.00000002, -0.99999999,\n",
       "       -0.99999996, -1.00000001, -1.00000002, -1.00000003, -0.99999998,\n",
       "       -1.00000002, -1.00000002, -1.00000002, -0.99999865, -1.00000002,\n",
       "       -0.99999998, -0.99999999, -1.00000003, -0.99999984, -1.00000002,\n",
       "       -1.00000001, -1.00000005, -1.00000002, -0.99999999, -0.99999995,\n",
       "       -0.99999995, -1.00000002, -1.00000004, -0.99999999, -1.00000001,\n",
       "       -1.        , -1.        , -1.00000003, -0.99999998, -0.99999999,\n",
       "       -0.99999996, -0.99999997, -1.00000004, -0.99999997, -0.99999996,\n",
       "       -1.00000002, -0.99999997, -1.00000001, -0.99999996, -0.99999998,\n",
       "       -1.        , -1.        , -0.99999999, -1.00000003, -1.00000004,\n",
       "       -0.99999996, -0.99999998, -1.        , -1.        , -1.00000003,\n",
       "       -1.        , -1.00000001, -1.00000003, -1.00000006, -0.99999998,\n",
       "       -0.99999997, -1.00000014, -0.99999997, -1.00000003, -1.        ,\n",
       "       -1.00000002, -1.00000007, -0.99999999, -1.00000001, -1.00000003,\n",
       "       -1.00000001, -1.00000001, -1.00000003, -0.99999998, -1.00000002,\n",
       "       -0.99999999, -1.00000004, -0.99999995, -1.00000002, -0.99999996,\n",
       "       -1.00000001, -0.99999998, -1.00000003, -1.00000002, -0.99999998,\n",
       "       -1.00000005, -0.99999997, -0.99999996, -0.99999998, -1.00000003,\n",
       "       -0.99999997, -0.99999997, -1.00000001, -1.00000013, -1.        ,\n",
       "       -0.99999995, -0.99999999, -0.99999996, -1.00000002, -1.00000002,\n",
       "       -1.00000001, -0.99999997, -1.00000005, -1.00000007, -0.99999997,\n",
       "       -1.00000003, -1.00000004, -1.        , -1.00000003, -0.99999998,\n",
       "       -0.99999993, -0.99999996, -1.00000002, -0.99999999, -0.99999999,\n",
       "       -0.99999999, -0.99999999, -1.00000002, -1.00000004, -1.00000001,\n",
       "       -1.        , -1.00000005, -0.99999999])"
      ]
     },
     "execution_count": 77,
     "metadata": {},
     "output_type": "execute_result"
    }
   ],
   "source": [
    "Tr_new / 1e6"
   ]
  },
  {
   "cell_type": "code",
   "execution_count": null,
   "metadata": {},
   "outputs": [],
   "source": []
  }
 ],
 "metadata": {
  "kernelspec": {
   "display_name": "Python3 (production2)",
   "language": "python",
   "name": "production2"
  },
  "language_info": {
   "codemirror_mode": {
    "name": "ipython",
    "version": 3
   },
   "file_extension": ".py",
   "mimetype": "text/x-python",
   "name": "python",
   "nbconvert_exporter": "python",
   "pygments_lexer": "ipython3",
   "version": "3.6.7"
  }
 },
 "nbformat": 4,
 "nbformat_minor": 2
}
