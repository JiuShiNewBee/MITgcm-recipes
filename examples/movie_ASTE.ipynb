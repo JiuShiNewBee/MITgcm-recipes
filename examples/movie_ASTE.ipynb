{
 "cells": [
  {
   "cell_type": "markdown",
   "metadata": {},
   "source": [
    "# Unleach your inner Spielberg"
   ]
  },
  {
   "cell_type": "code",
   "execution_count": 1,
   "metadata": {},
   "outputs": [],
   "source": [
    "import numpy as np\n",
    "from matplotlib import cm\n",
    "import cartopy as cart\n",
    "import matplotlib.pylab as plt"
   ]
  },
  {
   "cell_type": "code",
   "execution_count": 2,
   "metadata": {},
   "outputs": [],
   "source": [
    "# those modules are developped at LDEO \n",
    "import xmitgcm\n",
    "import MITgcm_recipes"
   ]
  },
  {
   "cell_type": "markdown",
   "metadata": {},
   "source": [
    "## Load ASTE data"
   ]
  },
  {
   "cell_type": "code",
   "execution_count": 3,
   "metadata": {},
   "outputs": [],
   "source": [
    "# ASTE grid information\n",
    "# we need extra metadata for xmitgcm to figure it out\n",
    "astemd = xmitgcm.utils.get_extra_metadata(domain='aste', nx=270)"
   ]
  },
  {
   "cell_type": "code",
   "execution_count": 4,
   "metadata": {},
   "outputs": [],
   "source": [
    "# ASTE run from An\n",
    "dir_aste_diags = '/local/data/artemis/simulations/ASTE/r1/diags/'\n",
    "dir_aste_grid  = '/local/data/artemis/simulations/ASTE/r1/grid/'\n",
    "\n",
    "ds_aste = xmitgcm.open_mdsdataset(dir_aste_diags, prefix=['state_3d_set1',\n",
    "                                                          'trsp_3d_set1'],\n",
    "                                  geometry='llc',nx=270,read_grid=True,\n",
    "                                  grid_dir=dir_aste_grid,extra_metadata=astemd, \n",
    "                                  delta_t=1200, ref_date='2002-1-1 0:0:0')"
   ]
  },
  {
   "cell_type": "markdown",
   "metadata": {},
   "source": [
    "## Movie: loop over timesteps"
   ]
  },
  {
   "cell_type": "code",
   "execution_count": 12,
   "metadata": {},
   "outputs": [],
   "source": [
    "moviedir='/local/data/artemis/workspace/rdussin/movies/ASTE/SST/'"
   ]
  },
  {
   "cell_type": "code",
   "execution_count": 13,
   "metadata": {},
   "outputs": [],
   "source": [
    "dict_plt_sst = {'figsize': [10, 10], 'vmin': -2,'vmax': 32, \n",
    "                'contours': np.arange(-2,32,0.5), \n",
    "                'cmap': cm.gist_ncar, 'cbarsize': 0.8, \n",
    "                'title': ''}"
   ]
  },
  {
   "cell_type": "code",
   "execution_count": 14,
   "metadata": {},
   "outputs": [],
   "source": [
    "# prevent from dispaying in notebook\n",
    "plt.ioff()"
   ]
  },
  {
   "cell_type": "code",
   "execution_count": 16,
   "metadata": {},
   "outputs": [],
   "source": [
    "for kt in range(len(ds_aste.time.values)):\n",
    "    # load SST\n",
    "    sst = ds_aste['THETA'].isel(k=0, time=kt)\n",
    "    # make plot\n",
    "    fig = MITgcm_recipes.plot_ASTE_pyresample(sst, \n",
    "                                              dict_plt_sst, \n",
    "                                              proj=cart.crs.Orthographic(\n",
    "                                              central_longitude=-40,\n",
    "                                              central_latitude=35))\n",
    "    plt.savefig(moviedir + 'frame_' + str(kt).zfill(4) + '.png', \n",
    "                bbox_inches='tight')\n",
    "    plt.close()"
   ]
  },
  {
   "cell_type": "markdown",
   "metadata": {},
   "source": [
    "## Movie: convert to gif and make animated gif"
   ]
  },
  {
   "cell_type": "code",
   "execution_count": 23,
   "metadata": {},
   "outputs": [],
   "source": [
    "import glob\n",
    "import os"
   ]
  },
  {
   "cell_type": "code",
   "execution_count": 21,
   "metadata": {},
   "outputs": [],
   "source": [
    "files = glob.glob(moviedir + '*.png')"
   ]
  },
  {
   "cell_type": "markdown",
   "metadata": {},
   "source": [
    "Convert to gif"
   ]
  },
  {
   "cell_type": "code",
   "execution_count": 24,
   "metadata": {},
   "outputs": [],
   "source": [
    "for file in files:\n",
    "    fileout=file.replace('png','gif')\n",
    "    os.system('convert ' + file + ' ' + fileout)"
   ]
  },
  {
   "cell_type": "markdown",
   "metadata": {},
   "source": [
    "Make animated git (smaller that mpeg file)"
   ]
  },
  {
   "cell_type": "code",
   "execution_count": 26,
   "metadata": {},
   "outputs": [
    {
     "data": {
      "text/plain": [
       "0"
      ]
     },
     "execution_count": 26,
     "metadata": {},
     "output_type": "execute_result"
    }
   ],
   "source": [
    "movie = moviedir + 'SST_ASTE_movie.gif'\n",
    "\n",
    "os.system('gifsicle -d 60 -l ' + moviedir + \n",
    "          'frame*.gif -o ' + movie)"
   ]
  },
  {
   "cell_type": "markdown",
   "metadata": {},
   "source": [
    "Open your masterpiece with a web browser (tested on firefox & safari) and \n",
    "enjoy the show!"
   ]
  },
  {
   "cell_type": "code",
   "execution_count": null,
   "metadata": {},
   "outputs": [],
   "source": []
  }
 ],
 "metadata": {
  "kernelspec": {
   "display_name": "Python3 (dev,raf)",
   "language": "python",
   "name": "dev"
  },
  "language_info": {
   "codemirror_mode": {
    "name": "ipython",
    "version": 3
   },
   "file_extension": ".py",
   "mimetype": "text/x-python",
   "name": "python",
   "nbconvert_exporter": "python",
   "pygments_lexer": "ipython3",
   "version": "3.6.5"
  }
 },
 "nbformat": 4,
 "nbformat_minor": 2
}
