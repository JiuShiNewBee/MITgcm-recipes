{
 "cells": [
  {
   "cell_type": "markdown",
   "metadata": {},
   "source": [
    "# Updating the CFC atmospheric concentration for MITgcm"
   ]
  },
  {
   "cell_type": "markdown",
   "metadata": {},
   "source": [
    "Problem : Atmospheric CFC input file only goes to 1998. I need more recent data for my simulation"
   ]
  },
  {
   "cell_type": "markdown",
   "metadata": {},
   "source": [
    "## 1. Download the HATS data"
   ]
  },
  {
   "cell_type": "code",
   "execution_count": 129,
   "metadata": {},
   "outputs": [
    {
     "name": "stdout",
     "output_type": "stream",
     "text": [
      "--2018-06-27 14:02:44--  ftp://ftp.cmdl.noaa.gov/hats/cfcs/cfc11/combined/HATS_global_F11.txt\n",
      "           => ‘HATS_global_F11.txt’\n",
      "Resolving ftp.cmdl.noaa.gov (ftp.cmdl.noaa.gov)... 140.172.200.31\n",
      "Connecting to ftp.cmdl.noaa.gov (ftp.cmdl.noaa.gov)|140.172.200.31|:21... connected.\n",
      "Logging in as anonymous ... Logged in!\n",
      "==> SYST ... done.    ==> PWD ... done.\n",
      "==> TYPE I ... done.  ==> CWD (1) /hats/cfcs/cfc11/combined ... done.\n",
      "==> SIZE HATS_global_F11.txt ... 161461\n",
      "==> PASV ... done.    ==> RETR HATS_global_F11.txt ... done.\n",
      "Length: 161461 (158K) (unauthoritative)\n",
      "\n",
      "HATS_global_F11.txt 100%[===================>] 157.68K   780KB/s    in 0.2s    \n",
      "\n",
      "2018-06-27 14:02:45 (780 KB/s) - ‘HATS_global_F11.txt’ saved [161461]\n",
      "\n",
      "--2018-06-27 14:02:45--  ftp://ftp.cmdl.noaa.gov/hats/cfcs/cfc12/combined/HATS_global_F12.txt\n",
      "           => ‘HATS_global_F12.txt’\n",
      "Resolving ftp.cmdl.noaa.gov (ftp.cmdl.noaa.gov)... 140.172.200.31\n",
      "Connecting to ftp.cmdl.noaa.gov (ftp.cmdl.noaa.gov)|140.172.200.31|:21... connected.\n",
      "Logging in as anonymous ... Logged in!\n",
      "==> SYST ... done.    ==> PWD ... done.\n",
      "==> TYPE I ... done.  ==> CWD (1) /hats/cfcs/cfc12/combined ... done.\n",
      "==> SIZE HATS_global_F12.txt ... 159577\n",
      "==> PASV ... done.    ==> RETR HATS_global_F12.txt ... done.\n",
      "Length: 159577 (156K) (unauthoritative)\n",
      "\n",
      "HATS_global_F12.txt 100%[===================>] 155.84K   661KB/s    in 0.2s    \n",
      "\n",
      "2018-06-27 14:02:46 (661 KB/s) - ‘HATS_global_F12.txt’ saved [159577]\n",
      "\n"
     ]
    }
   ],
   "source": [
    "# get HATS data\n",
    "!wget ftp://ftp.cmdl.noaa.gov/hats/cfcs/cfc11/combined/HATS_global_F11.txt\n",
    "!wget ftp://ftp.cmdl.noaa.gov/hats/cfcs/cfc12/combined/HATS_global_F12.txt"
   ]
  },
  {
   "cell_type": "markdown",
   "metadata": {},
   "source": [
    "## 2. Import dataset and compute annual mean"
   ]
  },
  {
   "cell_type": "code",
   "execution_count": 130,
   "metadata": {},
   "outputs": [],
   "source": [
    "import pandas as pd"
   ]
  },
  {
   "cell_type": "code",
   "execution_count": 131,
   "metadata": {},
   "outputs": [],
   "source": [
    "# read the data and take date and northern and southern hemisphere data\n",
    "cfc11 = pd.read_csv('HATS_global_F11.txt',delim_whitespace=True,header=84,usecols=[0,1,2,4],\n",
    "                    names=['year','month','cfc11_nh','cfc11_sh'],parse_dates={'time' : [0, 1]},\n",
    "                    infer_datetime_format=True,keep_date_col=True)\n",
    "cfc12 = pd.read_csv('HATS_global_F12.txt',delim_whitespace=True,header=84,usecols=[0,1,2,4],\n",
    "                    names=['year','month','cfc12_nh','cfc12_sh'],parse_dates={'time' : [0, 1]},\n",
    "                    infer_datetime_format=True,keep_date_col=True)"
   ]
  },
  {
   "cell_type": "code",
   "execution_count": 132,
   "metadata": {},
   "outputs": [],
   "source": [
    "# merge the 2 datasets\n",
    "cfc = cfc11.merge(cfc12,on='time')\n",
    "# set time as index\n",
    "cfc.index = pd.to_datetime(cfc.time)"
   ]
  },
  {
   "cell_type": "code",
   "execution_count": 133,
   "metadata": {},
   "outputs": [],
   "source": [
    "# compute annual average\n",
    "annual = cfc.resample('A').mean()"
   ]
  },
  {
   "cell_type": "code",
   "execution_count": 134,
   "metadata": {},
   "outputs": [
    {
     "data": {
      "text/plain": [
       "<matplotlib.axes._subplots.AxesSubplot at 0x1166d7630>"
      ]
     },
     "execution_count": 134,
     "metadata": {},
     "output_type": "execute_result"
    },
    {
     "data": {
      "image/png": "[encoded data removed]",
      "text/plain": [
       "<Figure size 432x288 with 1 Axes>"
      ]
     },
     "metadata": {},
     "output_type": "display_data"
    }
   ],
   "source": [
    "# check the results\n",
    "%matplotlib inline\n",
    "annual.plot()"
   ]
  },
  {
   "cell_type": "markdown",
   "metadata": {},
   "source": [
    "## 3. Update the CFC input file of MITgcm"
   ]
  },
  {
   "cell_type": "code",
   "execution_count": 135,
   "metadata": {},
   "outputs": [],
   "source": [
    "annual['date_string'] = annual.index.year + 0.5"
   ]
  },
  {
   "cell_type": "code",
   "execution_count": 136,
   "metadata": {},
   "outputs": [],
   "source": [
    "# the data until 1997 is already available.\n",
    "# Data for 1998 looks like a repeated value of 1997 and creates a discontinuity\n",
    "# in the time serie. we need to complete from 1998 to near-present\n",
    "# we also skip the last year (2018) which is not complete\n",
    "cfc_update = annual.loc['1998-12-31':'2017-12-31']"
   ]
  },
  {
   "cell_type": "code",
   "execution_count": 137,
   "metadata": {},
   "outputs": [
    {
     "data": {
      "text/html": [
       "<div>\n",
       "<style scoped>\n",
       "    .dataframe tbody tr th:only-of-type {\n",
       "        vertical-align: middle;\n",
       "    }\n",
       "\n",
       "    .dataframe tbody tr th {\n",
       "        vertical-align: top;\n",
       "    }\n",
       "\n",
       "    .dataframe thead th {\n",
       "        text-align: right;\n",
       "    }\n",
       "</style>\n",
       "<table border=\"1\" class=\"dataframe\">\n",
       "  <thead>\n",
       "    <tr style=\"text-align: right;\">\n",
       "      <th></th>\n",
       "      <th>cfc11_nh</th>\n",
       "      <th>cfc11_sh</th>\n",
       "      <th>cfc12_nh</th>\n",
       "      <th>cfc12_sh</th>\n",
       "      <th>date_string</th>\n",
       "    </tr>\n",
       "    <tr>\n",
       "      <th>time</th>\n",
       "      <th></th>\n",
       "      <th></th>\n",
       "      <th></th>\n",
       "      <th></th>\n",
       "      <th></th>\n",
       "    </tr>\n",
       "  </thead>\n",
       "  <tbody>\n",
       "    <tr>\n",
       "      <th>1998-12-31</th>\n",
       "      <td>263.885250</td>\n",
       "      <td>261.195833</td>\n",
       "      <td>539.881333</td>\n",
       "      <td>533.399333</td>\n",
       "      <td>1998.5</td>\n",
       "    </tr>\n",
       "    <tr>\n",
       "      <th>1999-12-31</th>\n",
       "      <td>262.234000</td>\n",
       "      <td>260.043917</td>\n",
       "      <td>542.100583</td>\n",
       "      <td>536.841667</td>\n",
       "      <td>1999.5</td>\n",
       "    </tr>\n",
       "    <tr>\n",
       "      <th>2000-12-31</th>\n",
       "      <td>260.651000</td>\n",
       "      <td>258.034000</td>\n",
       "      <td>544.310167</td>\n",
       "      <td>538.937250</td>\n",
       "      <td>2000.5</td>\n",
       "    </tr>\n",
       "    <tr>\n",
       "      <th>2001-12-31</th>\n",
       "      <td>258.865833</td>\n",
       "      <td>256.376833</td>\n",
       "      <td>544.985417</td>\n",
       "      <td>540.027417</td>\n",
       "      <td>2001.5</td>\n",
       "    </tr>\n",
       "    <tr>\n",
       "      <th>2002-12-31</th>\n",
       "      <td>256.903417</td>\n",
       "      <td>254.690083</td>\n",
       "      <td>545.360167</td>\n",
       "      <td>540.890667</td>\n",
       "      <td>2002.5</td>\n",
       "    </tr>\n",
       "    <tr>\n",
       "      <th>2003-12-31</th>\n",
       "      <td>254.420583</td>\n",
       "      <td>252.231250</td>\n",
       "      <td>544.764500</td>\n",
       "      <td>540.824167</td>\n",
       "      <td>2003.5</td>\n",
       "    </tr>\n",
       "    <tr>\n",
       "      <th>2004-12-31</th>\n",
       "      <td>252.236417</td>\n",
       "      <td>250.448333</td>\n",
       "      <td>544.074917</td>\n",
       "      <td>540.715500</td>\n",
       "      <td>2004.5</td>\n",
       "    </tr>\n",
       "    <tr>\n",
       "      <th>2005-12-31</th>\n",
       "      <td>250.321750</td>\n",
       "      <td>248.303000</td>\n",
       "      <td>543.237000</td>\n",
       "      <td>539.957167</td>\n",
       "      <td>2005.5</td>\n",
       "    </tr>\n",
       "    <tr>\n",
       "      <th>2006-12-31</th>\n",
       "      <td>248.033917</td>\n",
       "      <td>246.516083</td>\n",
       "      <td>541.488833</td>\n",
       "      <td>538.768750</td>\n",
       "      <td>2006.5</td>\n",
       "    </tr>\n",
       "    <tr>\n",
       "      <th>2007-12-31</th>\n",
       "      <td>245.865333</td>\n",
       "      <td>244.129917</td>\n",
       "      <td>539.147833</td>\n",
       "      <td>536.559333</td>\n",
       "      <td>2007.5</td>\n",
       "    </tr>\n",
       "    <tr>\n",
       "      <th>2008-12-31</th>\n",
       "      <td>243.829417</td>\n",
       "      <td>242.123917</td>\n",
       "      <td>536.548333</td>\n",
       "      <td>534.567167</td>\n",
       "      <td>2008.5</td>\n",
       "    </tr>\n",
       "    <tr>\n",
       "      <th>2009-12-31</th>\n",
       "      <td>241.974167</td>\n",
       "      <td>240.279917</td>\n",
       "      <td>533.988917</td>\n",
       "      <td>532.170833</td>\n",
       "      <td>2009.5</td>\n",
       "    </tr>\n",
       "    <tr>\n",
       "      <th>2010-12-31</th>\n",
       "      <td>240.083000</td>\n",
       "      <td>238.211167</td>\n",
       "      <td>531.012167</td>\n",
       "      <td>529.315750</td>\n",
       "      <td>2010.5</td>\n",
       "    </tr>\n",
       "    <tr>\n",
       "      <th>2011-12-31</th>\n",
       "      <td>238.118083</td>\n",
       "      <td>236.178083</td>\n",
       "      <td>528.388833</td>\n",
       "      <td>526.698583</td>\n",
       "      <td>2011.5</td>\n",
       "    </tr>\n",
       "    <tr>\n",
       "      <th>2012-12-31</th>\n",
       "      <td>236.063417</td>\n",
       "      <td>234.200417</td>\n",
       "      <td>525.391083</td>\n",
       "      <td>523.966083</td>\n",
       "      <td>2012.5</td>\n",
       "    </tr>\n",
       "    <tr>\n",
       "      <th>2013-12-31</th>\n",
       "      <td>234.621167</td>\n",
       "      <td>232.323500</td>\n",
       "      <td>522.603667</td>\n",
       "      <td>520.954417</td>\n",
       "      <td>2013.5</td>\n",
       "    </tr>\n",
       "    <tr>\n",
       "      <th>2014-12-31</th>\n",
       "      <td>233.654167</td>\n",
       "      <td>230.624583</td>\n",
       "      <td>519.429083</td>\n",
       "      <td>517.332083</td>\n",
       "      <td>2014.5</td>\n",
       "    </tr>\n",
       "    <tr>\n",
       "      <th>2015-12-31</th>\n",
       "      <td>232.443500</td>\n",
       "      <td>229.567417</td>\n",
       "      <td>516.317333</td>\n",
       "      <td>514.296583</td>\n",
       "      <td>2015.5</td>\n",
       "    </tr>\n",
       "    <tr>\n",
       "      <th>2016-12-31</th>\n",
       "      <td>231.198333</td>\n",
       "      <td>228.288667</td>\n",
       "      <td>512.400917</td>\n",
       "      <td>511.978583</td>\n",
       "      <td>2016.5</td>\n",
       "    </tr>\n",
       "    <tr>\n",
       "      <th>2017-12-31</th>\n",
       "      <td>230.226833</td>\n",
       "      <td>227.211583</td>\n",
       "      <td>509.376250</td>\n",
       "      <td>509.238417</td>\n",
       "      <td>2017.5</td>\n",
       "    </tr>\n",
       "  </tbody>\n",
       "</table>\n",
       "</div>"
      ],
      "text/plain": [
       "              cfc11_nh    cfc11_sh    cfc12_nh    cfc12_sh  date_string\n",
       "time                                                                   \n",
       "1998-12-31  263.885250  261.195833  539.881333  533.399333       1998.5\n",
       "1999-12-31  262.234000  260.043917  542.100583  536.841667       1999.5\n",
       "2000-12-31  260.651000  258.034000  544.310167  538.937250       2000.5\n",
       "2001-12-31  258.865833  256.376833  544.985417  540.027417       2001.5\n",
       "2002-12-31  256.903417  254.690083  545.360167  540.890667       2002.5\n",
       "2003-12-31  254.420583  252.231250  544.764500  540.824167       2003.5\n",
       "2004-12-31  252.236417  250.448333  544.074917  540.715500       2004.5\n",
       "2005-12-31  250.321750  248.303000  543.237000  539.957167       2005.5\n",
       "2006-12-31  248.033917  246.516083  541.488833  538.768750       2006.5\n",
       "2007-12-31  245.865333  244.129917  539.147833  536.559333       2007.5\n",
       "2008-12-31  243.829417  242.123917  536.548333  534.567167       2008.5\n",
       "2009-12-31  241.974167  240.279917  533.988917  532.170833       2009.5\n",
       "2010-12-31  240.083000  238.211167  531.012167  529.315750       2010.5\n",
       "2011-12-31  238.118083  236.178083  528.388833  526.698583       2011.5\n",
       "2012-12-31  236.063417  234.200417  525.391083  523.966083       2012.5\n",
       "2013-12-31  234.621167  232.323500  522.603667  520.954417       2013.5\n",
       "2014-12-31  233.654167  230.624583  519.429083  517.332083       2014.5\n",
       "2015-12-31  232.443500  229.567417  516.317333  514.296583       2015.5\n",
       "2016-12-31  231.198333  228.288667  512.400917  511.978583       2016.5\n",
       "2017-12-31  230.226833  227.211583  509.376250  509.238417       2017.5"
      ]
     },
     "execution_count": 137,
     "metadata": {},
     "output_type": "execute_result"
    }
   ],
   "source": [
    "cfc_update"
   ]
  },
  {
   "cell_type": "code",
   "execution_count": 138,
   "metadata": {},
   "outputs": [],
   "source": [
    "cfc_update.to_csv('./cfc_update_raw.txt',sep=' ', header=False, index=False, float_format=\"%0.2f\",\n",
    "                  columns=['date_string','cfc11_nh','cfc12_nh','cfc11_sh','cfc12_sh'])"
   ]
  },
  {
   "cell_type": "code",
   "execution_count": 139,
   "metadata": {},
   "outputs": [],
   "source": [
    "# rewrite the file to fix the formatting to match original file\n",
    "f = open('./cfc_update_raw.txt','r')\n",
    "lines = f.readlines()\n",
    "f.close()\n",
    "\n",
    "newlines=[]\n",
    "for line in lines:\n",
    "    elements = line.split()\n",
    "    newline = ' ' + elements[0] + '  ' + elements[1] + '  ' + elements[2] + '     ' + \\\n",
    "    elements[3] + '  ' + elements[4] + '   \\n'\n",
    "    newlines.append(newline)\n",
    "    \n",
    "fout = open('./cfc_update.txt','w')\n",
    "for line in newlines:\n",
    "    fout.write(line)\n",
    "fout.close()"
   ]
  },
  {
   "cell_type": "code",
   "execution_count": 140,
   "metadata": {},
   "outputs": [
    {
     "name": "stdout",
     "output_type": "stream",
     "text": [
      "--2018-06-27 14:03:05--  https://github.com/MITgcm/MITgcm/raw/master/verification/cfc_example/input/cfc1112.atm\n",
      "Resolving github.com (github.com)... 192.30.253.112, 192.30.253.113\n",
      "Connecting to github.com (github.com)|192.30.253.112|:443... connected.\n",
      "HTTP request sent, awaiting response... 302 Found\n",
      "Location: https://raw.githubusercontent.com/MITgcm/MITgcm/master/verification/cfc_example/input/cfc1112.atm [following]\n",
      "--2018-06-27 14:03:05--  https://raw.githubusercontent.com/MITgcm/MITgcm/master/verification/cfc_example/input/cfc1112.atm\n",
      "Resolving raw.githubusercontent.com (raw.githubusercontent.com)... 151.101.208.133\n",
      "Connecting to raw.githubusercontent.com (raw.githubusercontent.com)|151.101.208.133|:443... connected.\n",
      "HTTP request sent, awaiting response... 200 OK\n",
      "Length: 3437 (3.4K) [text/plain]\n",
      "Saving to: ‘cfc1112.atm’\n",
      "\n",
      "cfc1112.atm         100%[===================>]   3.36K  --.-KB/s    in 0s      \n",
      "\n",
      "2018-06-27 14:03:06 (20.5 MB/s) - ‘cfc1112.atm’ saved [3437/3437]\n",
      "\n"
     ]
    }
   ],
   "source": [
    "# Update the CFC timeseries\n",
    "\n",
    "# Original CFC data in MITgcm\n",
    "! wget https://github.com/MITgcm/MITgcm/raw/master/verification/cfc_example/input/cfc1112.atm\n",
    "\n",
    "# original file\n",
    "forig = open('cfc1112.atm','r')\n",
    "lines = forig.readlines()\n",
    "forig.close()\n",
    "\n",
    "# update\n",
    "fupdate = open('./cfc_update.txt','r')\n",
    "lines2 = fupdate.readlines()\n",
    "fupdate.close()\n",
    "\n",
    "# new CFC data file\n",
    "fnew = open('cfc1112.atm.updated','w')\n",
    "for line in lines[:-1]: # skip the 1998 data\n",
    "    fnew.write(line)\n",
    "for line in lines2:\n",
    "    fnew.write(line)\n",
    "fnew.close()"
   ]
  },
  {
   "cell_type": "markdown",
   "metadata": {},
   "source": [
    "## 4. Check the final results"
   ]
  },
  {
   "cell_type": "code",
   "execution_count": 141,
   "metadata": {},
   "outputs": [],
   "source": [
    "updated_cfcs = pd.read_csv('cfc1112.atm.updated',delim_whitespace=True,header=5,\n",
    "                           names=['date','cfc11_nh','cfc12_nh','cfc11_sh','cfc12_sh'])"
   ]
  },
  {
   "cell_type": "code",
   "execution_count": 142,
   "metadata": {},
   "outputs": [
    {
     "data": {
      "text/plain": [
       "<matplotlib.axes._subplots.AxesSubplot at 0x109854828>"
      ]
     },
     "execution_count": 142,
     "metadata": {},
     "output_type": "execute_result"
    },
    {
     "data": {
      "image/png": "[encoded data removed]",
      "text/plain": [
       "<Figure size 864x864 with 1 Axes>"
      ]
     },
     "metadata": {},
     "output_type": "display_data"
    }
   ],
   "source": [
    "updated_cfcs[['cfc11_nh','cfc12_nh','cfc11_sh','cfc12_sh']].plot(x=updated_cfcs['date'],figsize=[12,12],grid=True)"
   ]
  },
  {
   "cell_type": "code",
   "execution_count": null,
   "metadata": {},
   "outputs": [],
   "source": []
  }
 ],
 "metadata": {
  "kernelspec": {
   "display_name": "Python 3",
   "language": "python",
   "name": "python3"
  },
  "language_info": {
   "codemirror_mode": {
    "name": "ipython",
    "version": 3
   },
   "file_extension": ".py",
   "mimetype": "text/x-python",
   "name": "python",
   "nbconvert_exporter": "python",
   "pygments_lexer": "ipython3",
   "version": "3.6.4"
  }
 },
 "nbformat": 4,
 "nbformat_minor": 2
}
